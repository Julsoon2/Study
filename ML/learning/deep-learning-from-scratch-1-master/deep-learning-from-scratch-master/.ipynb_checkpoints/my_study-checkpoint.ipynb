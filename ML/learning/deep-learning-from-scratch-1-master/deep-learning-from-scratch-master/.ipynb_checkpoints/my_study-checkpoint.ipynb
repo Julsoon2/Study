{
 "cells": [
  {
   "cell_type": "code",
   "execution_count": 55,
   "id": "c27d9567",
   "metadata": {
    "ExecuteTime": {
     "end_time": "2021-10-17T13:08:22.314144Z",
     "start_time": "2021-10-17T13:08:22.299156Z"
    }
   },
   "outputs": [],
   "source": [
    "import numpy as np\n",
    "import matplotlib.pylab as plt\n",
    "import pickle as pkl\n",
    "\n",
    "import sys, os\n",
    "sys.path.append(os.pardir) # sys에 parent directory를 설정해서 상위 폴더의 library도 import 가능\n",
    "from dataset.mnist import load_mnist # 상위폴더의 dataset/mnist.py 내의 load_mnist 함수 import\n",
    "from PIL import Image # 파이썬 자체의 이미지 처리 라이브러리"
   ]
  },
  {
   "cell_type": "code",
   "execution_count": 56,
   "id": "8fb7aeb7",
   "metadata": {
    "ExecuteTime": {
     "end_time": "2021-10-17T13:08:22.940666Z",
     "start_time": "2021-10-17T13:08:22.920678Z"
    }
   },
   "outputs": [],
   "source": [
    "# Step_function\n",
    "\n",
    "def step_function(x):\n",
    "    return np.array(x > 0, dtype = np.int)"
   ]
  },
  {
   "cell_type": "code",
   "execution_count": 57,
   "id": "d7cae558",
   "metadata": {
    "ExecuteTime": {
     "end_time": "2021-10-17T13:08:24.180289Z",
     "start_time": "2021-10-17T13:08:23.713658Z"
    }
   },
   "outputs": [
    {
     "data": {
      "image/png": "[encoded data removed]",
      "text/plain": [
       "<Figure size 432x288 with 1 Axes>"
      ]
     },
     "metadata": {
      "needs_background": "light"
     },
     "output_type": "display_data"
    }
   ],
   "source": [
    "# step graph\n",
    "x = np.arange(-5.0, 5.0, 0.1)\n",
    "y = step_function(x)\n",
    "\n",
    "plt.plot(x, y)\n",
    "plt.ylim(-0.1, 1.1)\n",
    "plt.show()"
   ]
  },
  {
   "cell_type": "code",
   "execution_count": 58,
   "id": "2b277374",
   "metadata": {
    "ExecuteTime": {
     "end_time": "2021-10-17T13:08:24.196275Z",
     "start_time": "2021-10-17T13:08:24.187280Z"
    }
   },
   "outputs": [],
   "source": [
    "# Sigmoid_function\n",
    "def sigmoid(x):\n",
    "    return 1 / (1 + np.exp(-x))"
   ]
  },
  {
   "cell_type": "code",
   "execution_count": 59,
   "id": "d0e6ba2e",
   "metadata": {
    "ExecuteTime": {
     "end_time": "2021-10-17T13:08:24.753931Z",
     "start_time": "2021-10-17T13:08:24.211265Z"
    }
   },
   "outputs": [
    {
     "data": {
      "image/png": "[encoded data removed]",
      "text/plain": [
       "<Figure size 432x288 with 1 Axes>"
      ]
     },
     "metadata": {
      "needs_background": "light"
     },
     "output_type": "display_data"
    }
   ],
   "source": [
    "# Sigmoid_graph\n",
    "x = np.arange(-5.0, 5.0, 0.1)\n",
    "y = sigmoid(x)\n",
    "\n",
    "plt.plot(x, y)\n",
    "plt.show()"
   ]
  },
  {
   "cell_type": "code",
   "execution_count": 60,
   "id": "afa872cb",
   "metadata": {
    "ExecuteTime": {
     "end_time": "2021-10-17T13:08:24.785914Z",
     "start_time": "2021-10-17T13:08:24.759929Z"
    }
   },
   "outputs": [],
   "source": [
    "# Relu function\n",
    "def relu(x):\n",
    "    return np.maximum(0, x)"
   ]
  },
  {
   "cell_type": "code",
   "execution_count": 61,
   "id": "946e215e",
   "metadata": {
    "ExecuteTime": {
     "end_time": "2021-10-17T13:08:25.565920Z",
     "start_time": "2021-10-17T13:08:25.188152Z"
    }
   },
   "outputs": [
    {
     "data": {
      "image/png": "[encoded data removed]",
      "text/plain": [
       "<Figure size 432x288 with 1 Axes>"
      ]
     },
     "metadata": {
      "needs_background": "light"
     },
     "output_type": "display_data"
    }
   ],
   "source": [
    "# Relu graph\n",
    "\n",
    "x = np.arange(-5.0, 5.0, 0.1)\n",
    "y = relu(x)\n",
    "\n",
    "plt.plot(x, y)\n",
    "plt.ylim(-0.5, 5)\n",
    "plt.show()"
   ]
  },
  {
   "cell_type": "code",
   "execution_count": 62,
   "id": "46270f34",
   "metadata": {
    "ExecuteTime": {
     "end_time": "2021-10-17T13:08:26.141536Z",
     "start_time": "2021-10-17T13:08:26.121543Z"
    }
   },
   "outputs": [],
   "source": [
    "# Identity function\n",
    "def identity_function(x):\n",
    "    return x"
   ]
  },
  {
   "cell_type": "code",
   "execution_count": 63,
   "id": "692f63a7",
   "metadata": {
    "ExecuteTime": {
     "end_time": "2021-10-17T13:08:26.917039Z",
     "start_time": "2021-10-17T13:08:26.882050Z"
    }
   },
   "outputs": [],
   "source": [
    "# Weight initialize\n",
    "\n",
    "def init_network():\n",
    "    network = {}\n",
    "    network['W1'] = np.array([[0.1, 0.3, 0.5], [0.2, 0.4, 0.6]])\n",
    "    network['b1'] = np.array([0.1, 0.2, 0.3])\n",
    "    network['W2'] = np.array([[0.1, 0.4], [0.2, 0.5], [0.3, 0.6]])\n",
    "    network['b2'] = np.array([0.1, 0.2])\n",
    "    network['W3'] = np.array([[0.1, 0.3], [0.2, 0.4]])\n",
    "    network['b3'] = np.array([0.1, 0.2])\n",
    "    \n",
    "    return network"
   ]
  },
  {
   "cell_type": "code",
   "execution_count": 64,
   "id": "010237e7",
   "metadata": {
    "ExecuteTime": {
     "end_time": "2021-10-17T13:08:28.807622Z",
     "start_time": "2021-10-17T13:08:28.778635Z"
    }
   },
   "outputs": [],
   "source": [
    "# Forward network\n",
    "\n",
    "def forward(network, x):\n",
    "    W1, W2, W3 = network['W1'], network['W2'], network['W3']\n",
    "    b1, b2, b3 = network['b1'], network['b2'], network['b3']\n",
    "    \n",
    "    a1 = np.dot(x, W1) + b1\n",
    "    z1 = sigmoid(a1)\n",
    "    a2 = np.dot(z1, W2) + b2\n",
    "    z2 = sigmoid(a2)\n",
    "    a3 = np.dot(z2, W3) + b3\n",
    "    y = identity_function(a3)\n",
    "    \n",
    "    return y"
   ]
  },
  {
   "cell_type": "code",
   "execution_count": 65,
   "id": "ebcf4732",
   "metadata": {
    "ExecuteTime": {
     "end_time": "2021-10-17T13:08:29.840619Z",
     "start_time": "2021-10-17T13:08:29.825632Z"
    }
   },
   "outputs": [],
   "source": [
    "# Softmax function\n",
    "\n",
    "def softmax(a):\n",
    "    c = np.max(a)\n",
    "    exp_a = np.exp(a - c) # for overflow handling\n",
    "    sum_exp_a = np.sum(exp_a)\n",
    "    y = exp_a / sum_exp_a\n",
    "    \n",
    "    return y"
   ]
  },
  {
   "cell_type": "code",
   "execution_count": 66,
   "id": "da404c96",
   "metadata": {
    "ExecuteTime": {
     "end_time": "2021-10-17T13:08:32.672598Z",
     "start_time": "2021-10-17T13:08:32.657607Z"
    }
   },
   "outputs": [],
   "source": [
    "def get_data():\n",
    "    (x_train, t_train), (x_test, t_test) = load_mnist(normalize = True, flatten = True, one_hot_label = False)\n",
    "    return x_test, t_test"
   ]
  },
  {
   "cell_type": "code",
   "execution_count": 67,
   "id": "71c70572",
   "metadata": {
    "ExecuteTime": {
     "end_time": "2021-10-17T13:08:33.241587Z",
     "start_time": "2021-10-17T13:08:33.218600Z"
    }
   },
   "outputs": [],
   "source": [
    "def init_network(): # 초기 가중치는 이미 학습이 완료된 가중치를 가져옴.\n",
    "    with open(\"ch03\\sample_weight.pkl\", 'rb') as f:\n",
    "        network = pkl.load(f)\n",
    "    return network"
   ]
  },
  {
   "cell_type": "code",
   "execution_count": 68,
   "id": "85be305b",
   "metadata": {
    "ExecuteTime": {
     "end_time": "2021-10-17T13:08:33.527147Z",
     "start_time": "2021-10-17T13:08:33.499164Z"
    }
   },
   "outputs": [],
   "source": [
    "def predict(network, x):\n",
    "    W1, W2, W3 = network['W1'], network['W2'], network['W3']\n",
    "    b1, b2, b3 = network['b1'], network['b2'], network['b3']\n",
    "    \n",
    "    a1 = np.dot(x, W1) + b1\n",
    "    z1 = sigmoid(a1)\n",
    "    a2 = np.dot(z1, W2) + b2\n",
    "    z2 = sigmoid(a2)\n",
    "    a3 = np.dot(z2, W3) + b3\n",
    "    y = softmax(a3)\n",
    "    \n",
    "    return y"
   ]
  },
  {
   "cell_type": "code",
   "execution_count": 69,
   "id": "f7587edc",
   "metadata": {
    "ExecuteTime": {
     "end_time": "2021-10-17T13:08:33.734602Z",
     "start_time": "2021-10-17T13:08:33.723595Z"
    }
   },
   "outputs": [],
   "source": [
    "def img_show(img):\n",
    "    plt.figure(figsize = (5, 5))\n",
    "    plt.imshow(img, cmap = 'gray')\n",
    "    plt.show()"
   ]
  },
  {
   "cell_type": "code",
   "execution_count": 70,
   "id": "99b3b2a3",
   "metadata": {
    "ExecuteTime": {
     "end_time": "2021-10-17T13:08:34.679370Z",
     "start_time": "2021-10-17T13:08:33.939603Z"
    }
   },
   "outputs": [
    {
     "name": "stdout",
     "output_type": "stream",
     "text": [
      "Accuracy:0.9352\n"
     ]
    }
   ],
   "source": [
    "# MNIST 재현하기 with batch -> data load를 한번에 많이 해서 for문을 돌림 : for문 하나에 한개씩 돌리는 것보다빠름 : 500ms\n",
    "x, t = get_data()\n",
    "network = init_network()\n",
    "\n",
    "batch_size = 1000\n",
    "accuracy_cnt = 0\n",
    "\n",
    "for i in range(0, len(x), batch_size):\n",
    "    x_batch = x[i : i + batch_size]\n",
    "    y_batch = predict(network, x_batch)\n",
    "    p = np.argmax(y_batch, axis = 1)\n",
    "    \n",
    "    accuracy_cnt += np.sum(p == t[i : i + batch_size]) # bool array 생성 후 1만 sum\n",
    "        \n",
    "print(\"Accuracy:\" + str(float(accuracy_cnt)/len(x)))"
   ]
  },
  {
   "cell_type": "code",
   "execution_count": 71,
   "id": "0c3a1dde",
   "metadata": {
    "ExecuteTime": {
     "end_time": "2021-10-17T13:08:34.710346Z",
     "start_time": "2021-10-17T13:08:34.686361Z"
    }
   },
   "outputs": [],
   "source": [
    "def mean_squared_error(y, t):\n",
    "    return 0.5*np.sum((y-2)**2)"
   ]
  },
  {
   "cell_type": "code",
   "execution_count": 72,
   "id": "91ff62cb",
   "metadata": {
    "ExecuteTime": {
     "end_time": "2021-10-17T13:08:35.194909Z",
     "start_time": "2021-10-17T13:08:35.171921Z"
    }
   },
   "outputs": [],
   "source": [
    "def cross_entropy_error(y, t):\n",
    "    delta = 1e-7\n",
    "    return -np.sum(t*np.log(y + delta))"
   ]
  },
  {
   "cell_type": "code",
   "execution_count": 83,
   "id": "bf5f2799",
   "metadata": {
    "ExecuteTime": {
     "end_time": "2021-10-17T13:18:26.078739Z",
     "start_time": "2021-10-17T13:18:26.054753Z"
    }
   },
   "outputs": [],
   "source": [
    "def cross_entropy_error(y, t):\n",
    "    if y.dim == 1:\n",
    "        t = t.reshape(1, t.size)\n",
    "        y = y.reshape(1, y.size)\n",
    "        \n",
    "    batch_size = y.shape[0]\n",
    "    delta = 1e-7\n",
    "    \n",
    "    return -np.sum(t * np.log(y + delta))/batch_size # 정답이 아닌 건 onehot_encoding에서 0과 곱해져서 사라짐"
   ]
  },
  {
   "cell_type": "code",
   "execution_count": 84,
   "id": "68028203",
   "metadata": {
    "ExecuteTime": {
     "end_time": "2021-10-17T13:19:31.908217Z",
     "start_time": "2021-10-17T13:19:31.885226Z"
    }
   },
   "outputs": [],
   "source": [
    "def cross_entropy_error(y, t): # one-hot encoding 아닌경우\n",
    "    if y.dim == 1:\n",
    "        t = t.reshape(1, t.size)\n",
    "        y = y.reshape(1, y.size)\n",
    "        \n",
    "    batch_size = y.shape[0]\n",
    "    delta = 1e-7\n",
    "    \n",
    "    return -np.sum(np.log(y[np.arange(batch_size), t] + delta))/batch_size # y[0, 2] 등 정답에 해당하는 값만 log로 넘겨서 계산하게 함(list trick)"
   ]
  },
  {
   "cell_type": "code",
   "execution_count": 97,
   "id": "2e8267a8",
   "metadata": {
    "ExecuteTime": {
     "end_time": "2021-10-17T13:41:01.078658Z",
     "start_time": "2021-10-17T13:41:01.061673Z"
    }
   },
   "outputs": [],
   "source": [
    "def numerical_diff(f, x):\n",
    "    h = 1e-4\n",
    "    return (f(x+h) - f(x-h)) / (2*h)"
   ]
  },
  {
   "cell_type": "code",
   "execution_count": 98,
   "id": "811dad36",
   "metadata": {
    "ExecuteTime": {
     "end_time": "2021-10-17T13:41:02.202694Z",
     "start_time": "2021-10-17T13:41:02.194702Z"
    }
   },
   "outputs": [],
   "source": [
    "def function_1(x):\n",
    "    return 0.01*x**2 + 0.1*x"
   ]
  },
  {
   "cell_type": "code",
   "execution_count": 99,
   "id": "c5e6847f",
   "metadata": {
    "ExecuteTime": {
     "end_time": "2021-10-17T13:41:03.806357Z",
     "start_time": "2021-10-17T13:41:03.283695Z"
    }
   },
   "outputs": [
    {
     "data": {
      "image/png": "[encoded data removed]",
      "text/plain": [
       "<Figure size 432x288 with 1 Axes>"
      ]
     },
     "metadata": {
      "needs_background": "light"
     },
     "output_type": "display_data"
    }
   ],
   "source": [
    "x = np.arange(0.0, 20.0, 0.1)\n",
    "y = function_1(x)\n",
    "\n",
    "plt.xlabel(\"x\")\n",
    "plt.ylabel(\"f(x)\")\n",
    "plt.plot(x, y)\n",
    "plt.show()"
   ]
  },
  {
   "cell_type": "code",
   "execution_count": 100,
   "id": "2cfb3567",
   "metadata": {
    "ExecuteTime": {
     "end_time": "2021-10-17T13:41:04.959658Z",
     "start_time": "2021-10-17T13:41:04.939671Z"
    }
   },
   "outputs": [
    {
     "data": {
      "text/plain": [
       "0.1999999999990898"
      ]
     },
     "execution_count": 100,
     "metadata": {},
     "output_type": "execute_result"
    }
   ],
   "source": [
    "numerical_diff(function_1, 5)"
   ]
  },
  {
   "cell_type": "code",
   "execution_count": 105,
   "id": "e2b389cf",
   "metadata": {
    "ExecuteTime": {
     "end_time": "2021-10-17T13:43:18.306578Z",
     "start_time": "2021-10-17T13:43:18.289589Z"
    }
   },
   "outputs": [],
   "source": [
    "def function_1_diff(x):\n",
    "    return numerical_diff(function_1, 5)*x"
   ]
  },
  {
   "cell_type": "code",
   "execution_count": 116,
   "id": "1f128562",
   "metadata": {
    "ExecuteTime": {
     "end_time": "2021-10-17T13:50:14.792085Z",
     "start_time": "2021-10-17T13:50:14.295158Z"
    }
   },
   "outputs": [
    {
     "data": {
      "image/png": "[encoded data removed]",
      "text/plain": [
       "<Figure size 432x288 with 1 Axes>"
      ]
     },
     "metadata": {
      "needs_background": "light"
     },
     "output_type": "display_data"
    }
   ],
   "source": [
    "x = np.arange(0.0, 20.0, 0.1)\n",
    "y1 = function_1(x)\n",
    "y2 = function_1_diff(x) + (function_1(5) - function_1_diff(5))\n",
    "\n",
    "plt.xlabel(\"x\")\n",
    "plt.ylabel(\"f(x)\")\n",
    "plt.plot(x, y1)\n",
    "plt.plot(x, y2)\n",
    "plt.show()"
   ]
  },
  {
   "cell_type": "code",
   "execution_count": 135,
   "id": "5706ceb5",
   "metadata": {
    "ExecuteTime": {
     "end_time": "2021-10-17T14:14:22.503051Z",
     "start_time": "2021-10-17T14:14:22.483065Z"
    }
   },
   "outputs": [],
   "source": [
    "def function_2(x):\n",
    "    return np.sum(x**2)"
   ]
  },
  {
   "cell_type": "code",
   "execution_count": 136,
   "id": "d7977d0e",
   "metadata": {
    "ExecuteTime": {
     "end_time": "2021-10-17T14:14:23.199365Z",
     "start_time": "2021-10-17T14:14:23.185378Z"
    }
   },
   "outputs": [],
   "source": [
    "def numerical_gradient(f, x):\n",
    "    h = 1e-4\n",
    "    grad = np.zeros_like(x)\n",
    "    \n",
    "    for idx in range(x.size):\n",
    "        fxh1 = f(x[idx] + h)\n",
    "        fxh2 = f(x[idx] - h)\n",
    "        \n",
    "        grad[idx] = (fxh1 - fxh2) / (2*h)\n",
    "    \n",
    "    return grad"
   ]
  },
  {
   "cell_type": "code",
   "execution_count": 137,
   "id": "ab94c69d",
   "metadata": {
    "ExecuteTime": {
     "end_time": "2021-10-17T14:14:23.696614Z",
     "start_time": "2021-10-17T14:14:23.681618Z"
    }
   },
   "outputs": [],
   "source": [
    "def gradient_descent(f, init_x, lr = 0.01, step_num = 100):\n",
    "    x = init_x\n",
    "    \n",
    "    for i in range(step_num):\n",
    "        grad = numerical_gradient(f, x)\n",
    "        x -= lr*grad\n",
    "        \n",
    "    return x"
   ]
  },
  {
   "cell_type": "code",
   "execution_count": 138,
   "id": "a1f2a810",
   "metadata": {
    "ExecuteTime": {
     "end_time": "2021-10-17T14:14:24.182329Z",
     "start_time": "2021-10-17T14:14:24.140355Z"
    }
   },
   "outputs": [
    {
     "data": {
      "text/plain": [
       "array([-6.11110793e-10,  8.14814391e-10])"
      ]
     },
     "execution_count": 138,
     "metadata": {},
     "output_type": "execute_result"
    }
   ],
   "source": [
    "init_x = np.array([-3.0, 4.0])\n",
    "gradient_descent(function_2, init_x = init_x, lr = 0.1, step_num = 100)"
   ]
  }
 ],
 "metadata": {
  "hide_input": false,
  "kernelspec": {
   "display_name": "Python 3",
   "language": "python",
   "name": "python3"
  },
  "language_info": {
   "codemirror_mode": {
    "name": "ipython",
    "version": 3
   },
   "file_extension": ".py",
   "mimetype": "text/x-python",
   "name": "python",
   "nbconvert_exporter": "python",
   "pygments_lexer": "ipython3",
   "version": "3.8.8"
  },
  "toc": {
   "base_numbering": 1,
   "nav_menu": {},
   "number_sections": true,
   "sideBar": true,
   "skip_h1_title": false,
   "title_cell": "Table of Contents",
   "title_sidebar": "Contents",
   "toc_cell": false,
   "toc_position": {},
   "toc_section_display": true,
   "toc_window_display": false
  },
  "varInspector": {
   "cols": {
    "lenName": 16,
    "lenType": 16,
    "lenVar": 40
   },
   "kernels_config": {
    "python": {
     "delete_cmd_postfix": "",
     "delete_cmd_prefix": "del ",
     "library": "var_list.py",
     "varRefreshCmd": "print(var_dic_list())"
    },
    "r": {
     "delete_cmd_postfix": ") ",
     "delete_cmd_prefix": "rm(",
     "library": "var_list.r",
     "varRefreshCmd": "cat(var_dic_list()) "
    }
   },
   "types_to_exclude": [
    "module",
    "function",
    "builtin_function_or_method",
    "instance",
    "_Feature"
   ],
   "window_display": false
  }
 },
 "nbformat": 4,
 "nbformat_minor": 5
}
