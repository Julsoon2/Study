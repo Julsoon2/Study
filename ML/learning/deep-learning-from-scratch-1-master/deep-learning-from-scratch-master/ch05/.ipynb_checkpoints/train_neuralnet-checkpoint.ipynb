{
 "cells": [
  {
   "cell_type": "code",
   "execution_count": 1,
   "id": "6924f016",
   "metadata": {
    "ExecuteTime": {
     "end_time": "2021-10-23T14:46:19.041640Z",
     "start_time": "2021-10-23T14:46:18.606359Z"
    }
   },
   "outputs": [],
   "source": [
    "import sys, os\n",
    "sys.path.append(os.pardir)\n",
    "import numpy as np\n",
    "from dataset.mnist import load_mnist\n",
    "from two_layer_net import TwoLayerNet"
   ]
  },
  {
   "cell_type": "code",
   "execution_count": 2,
   "id": "7219a068",
   "metadata": {
    "ExecuteTime": {
     "end_time": "2021-10-23T14:46:49.917331Z",
     "start_time": "2021-10-23T14:46:49.461822Z"
    }
   },
   "outputs": [],
   "source": [
    "(x_train, t_train), (x_test, t_test) = load_mnist(normalize = True, one_hot_label = True)"
   ]
  },
  {
   "cell_type": "code",
   "execution_count": 3,
   "id": "edebc2fa",
   "metadata": {
    "ExecuteTime": {
     "end_time": "2021-10-23T14:47:17.481022Z",
     "start_time": "2021-10-23T14:47:17.452034Z"
    }
   },
   "outputs": [],
   "source": [
    "network = TwoLayerNet(input_size = 784, hidden_size = 50, output_size = 10)"
   ]
  },
  {
   "cell_type": "code",
   "execution_count": 4,
   "id": "275fa94d",
   "metadata": {
    "ExecuteTime": {
     "end_time": "2021-10-23T14:47:42.801380Z",
     "start_time": "2021-10-23T14:47:42.793384Z"
    }
   },
   "outputs": [],
   "source": [
    "iters_num = 10000\n",
    "train_size = x_train.shape[0]\n",
    "batch_size = 100\n",
    "learning_rate = 0.1"
   ]
  },
  {
   "cell_type": "code",
   "execution_count": 5,
   "id": "2c8b1d5b",
   "metadata": {
    "ExecuteTime": {
     "end_time": "2021-10-23T14:48:13.763899Z",
     "start_time": "2021-10-23T14:48:13.743909Z"
    }
   },
   "outputs": [],
   "source": [
    "train_loss_list = []\n",
    "train_acc_list = []\n",
    "test_acc_list = []"
   ]
  },
  {
   "cell_type": "code",
   "execution_count": 6,
   "id": "9bde07d9",
   "metadata": {
    "ExecuteTime": {
     "end_time": "2021-10-23T14:48:45.739224Z",
     "start_time": "2021-10-23T14:48:45.720236Z"
    }
   },
   "outputs": [],
   "source": [
    "iter_per_epoch= max(train_size/batch_size, 1)"
   ]
  },
  {
   "cell_type": "code",
   "execution_count": 8,
   "id": "f1c1ef61",
   "metadata": {
    "ExecuteTime": {
     "end_time": "2021-10-23T14:56:16.718033Z",
     "start_time": "2021-10-23T14:54:50.172243Z"
    },
    "scrolled": true
   },
   "outputs": [
    {
     "name": "stdout",
     "output_type": "stream",
     "text": [
      "0.10028333333333334 0.1015\n",
      "0.9037166666666666 0.9064\n",
      "0.9242333333333334 0.9259\n",
      "0.93475 0.9343\n",
      "0.9428333333333333 0.9427\n",
      "0.94945 0.9499\n",
      "0.9570666666666666 0.9545\n",
      "0.9603333333333334 0.9575\n",
      "0.9643666666666667 0.9621\n",
      "0.9671166666666666 0.9624\n",
      "0.96965 0.9658\n",
      "0.97145 0.9673\n",
      "0.9740166666666666 0.9683\n",
      "0.9749666666666666 0.9679\n",
      "0.9758 0.9681\n",
      "0.9774 0.9698\n",
      "0.9784 0.9701\n"
     ]
    }
   ],
   "source": [
    "for i in range(iters_num):\n",
    "    batch_mask = np.random.choice(train_size, batch_size)  # 0~ train_size 사이의 정수를 무작위로 batch_size 갯수만큼 추출해서 array로 반환\n",
    "    x_batch = x_train[batch_mask] # x_train 중 무작위로 받은 batch_mask에 해당하는 애들만 batch 데이터가 됨\n",
    "    t_batch = t_train[batch_mask]\n",
    "    \n",
    "    # 오차역전파법 기울기\n",
    "    grad = network.gradient(x_batch, t_batch)\n",
    "    \n",
    "    # 갱신\n",
    "    for key in ('W1', 'b1', 'W2', 'b2'):\n",
    "        network.params[key] -= learning_rate*grad[key] # 기울기 * 학습률만큼 가중치 변경\n",
    "    \n",
    "    loss = network.loss(x_batch, t_batch)\n",
    "    train_loss_list.append(loss)\n",
    "    \n",
    "    \n",
    "    if i % iter_per_epoch == 0:\n",
    "        train_acc = network.accuracy(x_train, t_train)\n",
    "        test_acc = network.accuracy(x_test, t_test)\n",
    "        train_acc_list.append(train_acc)\n",
    "        test_acc_list.append(test_acc)\n",
    "        print(train_acc,test_acc)"
   ]
  }
 ],
 "metadata": {
  "hide_input": false,
  "kernelspec": {
   "display_name": "Python 3",
   "language": "python",
   "name": "python3"
  },
  "language_info": {
   "codemirror_mode": {
    "name": "ipython",
    "version": 3
   },
   "file_extension": ".py",
   "mimetype": "text/x-python",
   "name": "python",
   "nbconvert_exporter": "python",
   "pygments_lexer": "ipython3",
   "version": "3.8.8"
  }
 },
 "nbformat": 4,
 "nbformat_minor": 5
}
