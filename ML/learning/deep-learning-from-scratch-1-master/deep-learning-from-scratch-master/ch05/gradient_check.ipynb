{
 "cells": [
  {
   "cell_type": "code",
   "execution_count": 1,
   "id": "36a2363f",
   "metadata": {
    "ExecuteTime": {
     "end_time": "2021-10-23T14:33:56.510483Z",
     "start_time": "2021-10-23T14:33:56.036816Z"
    }
   },
   "outputs": [],
   "source": [
    "import sys, os\n",
    "sys.path.append(os.pardir)\n",
    "import numpy as np\n",
    "from dataset.mnist import load_mnist\n",
    "from two_layer_net import TwoLayerNet"
   ]
  },
  {
   "cell_type": "code",
   "execution_count": 3,
   "id": "c8014671",
   "metadata": {
    "ExecuteTime": {
     "end_time": "2021-10-23T14:37:31.602868Z",
     "start_time": "2021-10-23T14:36:56.036067Z"
    }
   },
   "outputs": [],
   "source": [
    "# data load\n",
    "(x_train, t_train), (x_test, t_test) = load_mnist(normalize=True, one_hot_label=True)\n",
    "\n",
    "network = TwoLayerNet(input_size = 784, hidden_size=50, output_size=10)\n",
    "\n",
    "x_batch = x_train[:3]\n",
    "t_batch = t_train[:3]\n",
    "\n",
    "grad_numerical = network.numerical_gradient(x_batch, t_batch)\n",
    "grad_backprop = network.gradient(x_batch, t_batch)"
   ]
  },
  {
   "cell_type": "code",
   "execution_count": 6,
   "id": "1255cc0e",
   "metadata": {
    "ExecuteTime": {
     "end_time": "2021-10-23T14:38:09.120855Z",
     "start_time": "2021-10-23T14:38:09.101866Z"
    }
   },
   "outputs": [
    {
     "name": "stdout",
     "output_type": "stream",
     "text": [
      "W1:3.266466560352756e-10\n",
      "b1:1.9269985359162463e-09\n",
      "W2:4.88935063317576e-09\n",
      "b2:1.4011127475038743e-07\n"
     ]
    }
   ],
   "source": [
    "for key in grad_numerical.keys():\n",
    "    diff = np.average(np.abs(grad_backprop[key] - grad_numerical[key]))\n",
    "    print(key + \":\"+ str(diff))"
   ]
  }
 ],
 "metadata": {
  "hide_input": false,
  "kernelspec": {
   "display_name": "Python 3",
   "language": "python",
   "name": "python3"
  },
  "language_info": {
   "codemirror_mode": {
    "name": "ipython",
    "version": 3
   },
   "file_extension": ".py",
   "mimetype": "text/x-python",
   "name": "python",
   "nbconvert_exporter": "python",
   "pygments_lexer": "ipython3",
   "version": "3.8.8"
  }
 },
 "nbformat": 4,
 "nbformat_minor": 5
}
