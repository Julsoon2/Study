{
 "cells": [
  {
   "cell_type": "code",
   "execution_count": 1,
   "id": "9ea7f1f7",
   "metadata": {
    "ExecuteTime": {
     "end_time": "2021-10-23T13:52:44.881787Z",
     "start_time": "2021-10-23T13:52:44.360669Z"
    }
   },
   "outputs": [],
   "source": [
    "import sys, os\n",
    "sys.path.append(os.pardir)\n",
    "import numpy as np\n",
    "from common.layers import *\n",
    "from common.gradient import numerical_gradient\n",
    "from collections import OrderedDict # Dict인데 순서까지 고려하는 dict가 필요할 때 import"
   ]
  },
  {
   "cell_type": "code",
   "execution_count": 38,
   "id": "ae4ea7df",
   "metadata": {
    "ExecuteTime": {
     "end_time": "2021-10-23T14:30:38.328549Z",
     "start_time": "2021-10-23T14:30:38.262586Z"
    }
   },
   "outputs": [],
   "source": [
    "class TwoLayerNet:\n",
    "    \n",
    "    def __init__(self, input_size, hidden_size, output_size, weight_init_std = 0.01):\n",
    "        #가중치 초기화\n",
    "        self.params = {}\n",
    "        self.params['W1'] = weight_init_std * np.random.randn(input_size, hidden_size)\n",
    "        self.params['b1'] = np.zeros(hidden_size)\n",
    "        self.params['W2'] = weight_init_std * np.random.randn(hidden_size, output_size)\n",
    "        self.params['b2'] = np.zeros(output_size)\n",
    "        \n",
    "        # 계층 생성\n",
    "        self.layers = OrderedDict()\n",
    "        self.layers['Affine1'] = Affine(self.params['W1'], self.params['b1'])\n",
    "        self.layers['Relu1'] = Relu()\n",
    "        self.layers['Affine2'] = Affine(self.params['W2'], self.params['b2'])\n",
    "        \n",
    "        self.lastLayer = SoftmaxWithLoss() # layers dict에 포함되지 않음\n",
    "        \n",
    "        \n",
    "    def predict(self, x):\n",
    "        for layer in self.layers.values(): # layers dict만 반복함으로써 softmax 레이어는 predict에서 통과되지 않음.\n",
    "            x = layer.forward(x)\n",
    "            \n",
    "        return x\n",
    "    \n",
    "    def loss(self, x, t): # x:입력, t:정답\n",
    "        y = self.predict(x)\n",
    "        return self.lastLayer.forward(y, t) # loss값 구할때 softmaxwithloss 통과시켜서 값 구하기\n",
    "    \n",
    "    def accuracy(self, x, t):\n",
    "        y = self.predict(x)\n",
    "        y = np.argmax(y, axis = 1) # 출력 데이터 중 가장 값이 큰거의 인덱스만  따오기\n",
    "        if t.ndim !=1 : t = np.argmax(t, axis = 1) # t가 1차원이 아닌 경우 정답인 axis list 중 제일 큰 값의 인덱스만 따오기\n",
    "            \n",
    "        accuracy = np.sum(y == t) / float(x.shape[0]) # y랑 t가 같은 것의 합을 전체 입력 수로 나누면 정확도가 됨\n",
    "        \n",
    "        return accuracy\n",
    "    \n",
    "    def numerical_gradient(self, x, t):\n",
    "        loss_W = lambda W: self.loss(x, t) # lambda 뒤에 W는 사실 생략해도 상관은 없음.\n",
    "        \n",
    "        grads = {}\n",
    "        grads['W1'] = numerical_gradient(loss_W, self.params['W1'])\n",
    "        grads['b1'] = numerical_gradient(loss_W, self.params['b1'])\n",
    "        grads['W2'] = numerical_gradient(loss_W, self.params['W2'])\n",
    "        grads['b2'] = numerical_gradient(loss_W, self.params['b2'])\n",
    "        return grads\n",
    "    \n",
    "    def gradient(self, x, t):\n",
    "        # forward propagation\n",
    "        self.loss(x, t)\n",
    "        \n",
    "        # backward propagation\n",
    "        dout = 1\n",
    "        dout = self.lastLayer.backward(dout)\n",
    "        \n",
    "        layers = list(self.layers.values())\n",
    "        layers.reverse()\n",
    "        \n",
    "        for layer in layers:\n",
    "            dout = layer.backward(dout)\n",
    "            \n",
    "        # 결과 저장\n",
    "        grads = {}\n",
    "        grads['W1']= self.layers['Affine1'].dW\n",
    "        grads['b1']= self.layers['Affine1'].db\n",
    "        grads['W2']= self.layers['Affine2'].dW\n",
    "        grads['b2']= self.layers['Affine2'].db\n",
    "        \n",
    "        return grads"
   ]
  }
 ],
 "metadata": {
  "hide_input": false,
  "kernelspec": {
   "display_name": "Python 3",
   "language": "python",
   "name": "python3"
  },
  "language_info": {
   "codemirror_mode": {
    "name": "ipython",
    "version": 3
   },
   "file_extension": ".py",
   "mimetype": "text/x-python",
   "name": "python",
   "nbconvert_exporter": "python",
   "pygments_lexer": "ipython3",
   "version": "3.8.8"
  }
 },
 "nbformat": 4,
 "nbformat_minor": 5
}
