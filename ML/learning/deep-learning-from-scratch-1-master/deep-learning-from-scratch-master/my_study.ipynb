{
 "cells": [
  {
   "cell_type": "code",
   "execution_count": 1,
   "id": "c27d9567",
   "metadata": {
    "ExecuteTime": {
     "end_time": "2021-10-20T02:41:49.040880Z",
     "start_time": "2021-10-20T02:41:47.759659Z"
    }
   },
   "outputs": [],
   "source": [
    "import numpy as np\n",
    "import matplotlib.pylab as plt\n",
    "import pickle as pkl\n",
    "\n",
    "import sys, os\n",
    "sys.path.append(os.pardir) # sys에 parent directory를 설정해서 상위 폴더의 library도 import 가능\n",
    "from dataset.mnist import load_mnist # 상위폴더의 dataset/mnist.py 내의 load_mnist 함수 import\n",
    "from PIL import Image # 파이썬 자체의 이미지 처리 라이브러리"
   ]
  },
  {
   "cell_type": "code",
   "execution_count": 2,
   "id": "8fb7aeb7",
   "metadata": {
    "ExecuteTime": {
     "end_time": "2021-10-20T02:41:49.072846Z",
     "start_time": "2021-10-20T02:41:49.046858Z"
    }
   },
   "outputs": [],
   "source": [
    "# Step_function\n",
    "\n",
    "def step_function(x):\n",
    "    return np.array(x > 0, dtype = np.int)"
   ]
  },
  {
   "cell_type": "code",
   "execution_count": 3,
   "id": "d7cae558",
   "metadata": {
    "ExecuteTime": {
     "end_time": "2021-10-20T02:41:49.104822Z",
     "start_time": "2021-10-20T02:41:49.085838Z"
    }
   },
   "outputs": [],
   "source": [
    "# # step graph\n",
    "# x = np.arange(-5.0, 5.0, 0.1)\n",
    "# y = step_function(x)\n",
    "\n",
    "# plt.plot(x, y)\n",
    "# plt.ylim(-0.1, 1.1)\n",
    "# plt.show()"
   ]
  },
  {
   "cell_type": "code",
   "execution_count": 4,
   "id": "2b277374",
   "metadata": {
    "ExecuteTime": {
     "end_time": "2021-10-20T02:41:49.120813Z",
     "start_time": "2021-10-20T02:41:49.109819Z"
    }
   },
   "outputs": [],
   "source": [
    "# Sigmoid_function\n",
    "def sigmoid(x):\n",
    "    return 1 / (1 + np.exp(-x))"
   ]
  },
  {
   "cell_type": "code",
   "execution_count": 5,
   "id": "d0e6ba2e",
   "metadata": {
    "ExecuteTime": {
     "end_time": "2021-10-20T02:41:49.137803Z",
     "start_time": "2021-10-20T02:41:49.127809Z"
    }
   },
   "outputs": [],
   "source": [
    "# # Sigmoid_graph\n",
    "# x = np.arange(-5.0, 5.0, 0.1)\n",
    "# y = sigmoid(x)\n",
    "\n",
    "# plt.plot(x, y)\n",
    "# plt.show()"
   ]
  },
  {
   "cell_type": "code",
   "execution_count": 6,
   "id": "afa872cb",
   "metadata": {
    "ExecuteTime": {
     "end_time": "2021-10-20T02:41:49.215637Z",
     "start_time": "2021-10-20T02:41:49.196443Z"
    }
   },
   "outputs": [],
   "source": [
    "# Relu function\n",
    "def relu(x):\n",
    "    return np.maximum(0, x)"
   ]
  },
  {
   "cell_type": "code",
   "execution_count": 7,
   "id": "946e215e",
   "metadata": {
    "ExecuteTime": {
     "end_time": "2021-10-20T02:41:49.231624Z",
     "start_time": "2021-10-20T02:41:49.223629Z"
    }
   },
   "outputs": [],
   "source": [
    "# # Relu graph\n",
    "\n",
    "# x = np.arange(-5.0, 5.0, 0.1)\n",
    "# y = relu(x)\n",
    "\n",
    "# plt.plot(x, y)\n",
    "# plt.ylim(-0.5, 5)\n",
    "# plt.show()"
   ]
  },
  {
   "cell_type": "code",
   "execution_count": 8,
   "id": "46270f34",
   "metadata": {
    "ExecuteTime": {
     "end_time": "2021-10-20T02:41:49.263609Z",
     "start_time": "2021-10-20T02:41:49.239619Z"
    }
   },
   "outputs": [],
   "source": [
    "# Identity function\n",
    "def identity_function(x):\n",
    "    return x"
   ]
  },
  {
   "cell_type": "code",
   "execution_count": 9,
   "id": "692f63a7",
   "metadata": {
    "ExecuteTime": {
     "end_time": "2021-10-20T02:41:49.295588Z",
     "start_time": "2021-10-20T02:41:49.270601Z"
    }
   },
   "outputs": [],
   "source": [
    "# Weight initialize\n",
    "\n",
    "def init_network():\n",
    "    network = {}\n",
    "    network['W1'] = np.array([[0.1, 0.3, 0.5], [0.2, 0.4, 0.6]])\n",
    "    network['b1'] = np.array([0.1, 0.2, 0.3])\n",
    "    network['W2'] = np.array([[0.1, 0.4], [0.2, 0.5], [0.3, 0.6]])\n",
    "    network['b2'] = np.array([0.1, 0.2])\n",
    "    network['W3'] = np.array([[0.1, 0.3], [0.2, 0.4]])\n",
    "    network['b3'] = np.array([0.1, 0.2])\n",
    "    \n",
    "    return network"
   ]
  },
  {
   "cell_type": "code",
   "execution_count": 10,
   "id": "010237e7",
   "metadata": {
    "ExecuteTime": {
     "end_time": "2021-10-20T02:41:49.327568Z",
     "start_time": "2021-10-20T02:41:49.299585Z"
    }
   },
   "outputs": [],
   "source": [
    "# Forward network\n",
    "\n",
    "def forward(network, x):\n",
    "    W1, W2, W3 = network['W1'], network['W2'], network['W3']\n",
    "    b1, b2, b3 = network['b1'], network['b2'], network['b3']\n",
    "    \n",
    "    a1 = np.dot(x, W1) + b1\n",
    "    z1 = sigmoid(a1)\n",
    "    a2 = np.dot(z1, W2) + b2\n",
    "    z2 = sigmoid(a2)\n",
    "    a3 = np.dot(z2, W3) + b3\n",
    "    y = identity_function(a3)\n",
    "    \n",
    "    return y"
   ]
  },
  {
   "cell_type": "code",
   "execution_count": 11,
   "id": "ebcf4732",
   "metadata": {
    "ExecuteTime": {
     "end_time": "2021-10-20T02:41:49.358545Z",
     "start_time": "2021-10-20T02:41:49.334559Z"
    }
   },
   "outputs": [],
   "source": [
    "# Softmax function\n",
    "\n",
    "def softmax(a):\n",
    "    c = np.max(a)\n",
    "    exp_a = np.exp(a - c) # for overflow handling\n",
    "    sum_exp_a = np.sum(exp_a)\n",
    "    y = exp_a / sum_exp_a\n",
    "    \n",
    "    return y"
   ]
  },
  {
   "cell_type": "code",
   "execution_count": 12,
   "id": "da404c96",
   "metadata": {
    "ExecuteTime": {
     "end_time": "2021-10-20T02:41:49.389526Z",
     "start_time": "2021-10-20T02:41:49.364544Z"
    }
   },
   "outputs": [],
   "source": [
    "def get_data():\n",
    "    (x_train, t_train), (x_test, t_test) = load_mnist(normalize = True, flatten = True, one_hot_label = False)\n",
    "    return x_test, t_test"
   ]
  },
  {
   "cell_type": "code",
   "execution_count": 13,
   "id": "71c70572",
   "metadata": {
    "ExecuteTime": {
     "end_time": "2021-10-20T02:41:49.420511Z",
     "start_time": "2021-10-20T02:41:49.396523Z"
    }
   },
   "outputs": [],
   "source": [
    "def init_network(): # 초기 가중치는 이미 학습이 완료된 가중치를 가져옴.\n",
    "    with open(\"ch03\\sample_weight.pkl\", 'rb') as f:\n",
    "        network = pkl.load(f)\n",
    "    return network"
   ]
  },
  {
   "cell_type": "code",
   "execution_count": 14,
   "id": "85be305b",
   "metadata": {
    "ExecuteTime": {
     "end_time": "2021-10-20T02:41:49.452487Z",
     "start_time": "2021-10-20T02:41:49.427503Z"
    }
   },
   "outputs": [],
   "source": [
    "def predict(network, x):\n",
    "    W1, W2, W3 = network['W1'], network['W2'], network['W3']\n",
    "    b1, b2, b3 = network['b1'], network['b2'], network['b3']\n",
    "    \n",
    "    a1 = np.dot(x, W1) + b1\n",
    "    z1 = sigmoid(a1)\n",
    "    a2 = np.dot(z1, W2) + b2\n",
    "    z2 = sigmoid(a2)\n",
    "    a3 = np.dot(z2, W3) + b3\n",
    "    y = softmax(a3)\n",
    "    \n",
    "    return y"
   ]
  },
  {
   "cell_type": "code",
   "execution_count": 15,
   "id": "f7587edc",
   "metadata": {
    "ExecuteTime": {
     "end_time": "2021-10-20T02:41:49.468479Z",
     "start_time": "2021-10-20T02:41:49.459484Z"
    }
   },
   "outputs": [],
   "source": [
    "def img_show(img):\n",
    "    plt.figure(figsize = (5, 5))\n",
    "    plt.imshow(img, cmap = 'gray')\n",
    "    plt.show()"
   ]
  },
  {
   "cell_type": "code",
   "execution_count": 16,
   "id": "99b3b2a3",
   "metadata": {
    "ExecuteTime": {
     "end_time": "2021-10-20T02:41:49.500460Z",
     "start_time": "2021-10-20T02:41:49.476473Z"
    }
   },
   "outputs": [],
   "source": [
    "# # MNIST 재현하기 with batch -> data load를 한번에 많이 해서 for문을 돌림 : for문 하나에 한개씩 돌리는 것보다빠름 : 500ms\n",
    "# x, t = get_data()\n",
    "# network = init_network()\n",
    "\n",
    "# batch_size = 1000\n",
    "# accuracy_cnt = 0\n",
    "\n",
    "# for i in range(0, len(x), batch_size):\n",
    "#     x_batch = x[i : i + batch_size]\n",
    "#     y_batch = predict(network, x_batch)\n",
    "#     p = np.argmax(y_batch, axis = 1)\n",
    "    \n",
    "#     accuracy_cnt += np.sum(p == t[i : i + batch_size]) # bool array 생성 후 1만 sum\n",
    "        \n",
    "# print(\"Accuracy:\" + str(float(accuracy_cnt)/len(x)))"
   ]
  },
  {
   "cell_type": "code",
   "execution_count": 17,
   "id": "0c3a1dde",
   "metadata": {
    "ExecuteTime": {
     "end_time": "2021-10-20T02:41:49.516449Z",
     "start_time": "2021-10-20T02:41:49.506456Z"
    }
   },
   "outputs": [],
   "source": [
    "def mean_squared_error(y, t):\n",
    "    return 0.5*np.sum((y-2)**2)"
   ]
  },
  {
   "cell_type": "code",
   "execution_count": 18,
   "id": "68028203",
   "metadata": {
    "ExecuteTime": {
     "end_time": "2021-10-20T02:41:49.548428Z",
     "start_time": "2021-10-20T02:41:49.521446Z"
    }
   },
   "outputs": [],
   "source": [
    "def cross_entropy_error(y, t): # one-hot encoding 아닌경우\n",
    "    if y.ndim == 1:\n",
    "        t = t.reshape(1, t.size)\n",
    "        y = y.reshape(1, y.size)\n",
    "        \n",
    "    # 훈련 데이터가 원-핫 벡터라면 정답 레이블의 인덱스 반환\n",
    "    if t.size == y.size: # size는 배열 원소 갯수. len은 배열 맨 마지막 리스트 길이\n",
    "        t = t.argmax(axis = 1)\n",
    "        \n",
    "    batch_size = y.shape[0]\n",
    "    delta = 1e-7\n",
    "    \n",
    "    return -np.sum(np.log(y[np.arange(batch_size), t] + delta))/batch_size # y[0, 2] 등 정답에 해당하는 값만 log로 넘겨서 계산하게 함(list trick)"
   ]
  },
  {
   "cell_type": "code",
   "execution_count": 19,
   "id": "2e8267a8",
   "metadata": {
    "ExecuteTime": {
     "end_time": "2021-10-20T02:41:49.580038Z",
     "start_time": "2021-10-20T02:41:49.555424Z"
    }
   },
   "outputs": [],
   "source": [
    "def numerical_diff(f, x):\n",
    "    h = 1e-4\n",
    "    return (f(x+h) - f(x-h)) / (2*h)"
   ]
  },
  {
   "cell_type": "code",
   "execution_count": 20,
   "id": "811dad36",
   "metadata": {
    "ExecuteTime": {
     "end_time": "2021-10-20T02:41:49.596029Z",
     "start_time": "2021-10-20T02:41:49.585037Z"
    }
   },
   "outputs": [],
   "source": [
    "def function_1(x):\n",
    "    return 0.01*x**2 + 0.1*x"
   ]
  },
  {
   "cell_type": "code",
   "execution_count": 21,
   "id": "e2b389cf",
   "metadata": {
    "ExecuteTime": {
     "end_time": "2021-10-20T02:41:49.629007Z",
     "start_time": "2021-10-20T02:41:49.611018Z"
    }
   },
   "outputs": [],
   "source": [
    "def function_1_diff(x):\n",
    "    return numerical_diff(function_1, 5)*x"
   ]
  },
  {
   "cell_type": "code",
   "execution_count": 22,
   "id": "5706ceb5",
   "metadata": {
    "ExecuteTime": {
     "end_time": "2021-10-20T02:41:49.658990Z",
     "start_time": "2021-10-20T02:41:49.636003Z"
    }
   },
   "outputs": [],
   "source": [
    "def function_2(x):\n",
    "    return np.sum(x**2)"
   ]
  },
  {
   "cell_type": "code",
   "execution_count": 23,
   "id": "d7977d0e",
   "metadata": {
    "ExecuteTime": {
     "end_time": "2021-10-20T02:41:49.690970Z",
     "start_time": "2021-10-20T02:41:49.665986Z"
    }
   },
   "outputs": [],
   "source": [
    "def numerical_gradient(f, x):\n",
    "    h = 1e-4\n",
    "    grad = np.zeros_like(x)\n",
    "    \n",
    "#     for idx in range(x.size):\n",
    "#         fxh1 = f(x[idx] + h)\n",
    "#         fxh2 = f(x[idx] - h)\n",
    "        \n",
    "#         grad[idx] = (fxh1 - fxh2) / (2*h)\n",
    "\n",
    "    it = np.nditer(x, flags=['multi_index'], op_flags=['readwrite']) # 다차원 배열 처리용으로 업그레이드\n",
    "    while not it.finished:\n",
    "        idx = it.multi_index\n",
    "        tmp_val = x[idx]\n",
    "        x[idx] = float(tmp_val) + h\n",
    "        fxh1 = f(x) # f(x+h)\n",
    "        \n",
    "        x[idx] = tmp_val - h \n",
    "        fxh2 = f(x) # f(x-h)\n",
    "        grad[idx] = (fxh1 - fxh2) / (2*h)\n",
    "        \n",
    "        x[idx] = tmp_val # 값 복원\n",
    "        it.iternext()   \n",
    "    \n",
    "    return grad"
   ]
  },
  {
   "cell_type": "code",
   "execution_count": 24,
   "id": "ab94c69d",
   "metadata": {
    "ExecuteTime": {
     "end_time": "2021-10-20T02:41:49.722948Z",
     "start_time": "2021-10-20T02:41:49.696965Z"
    }
   },
   "outputs": [],
   "source": [
    "def gradient_descent(f, init_x, lr = 0.01, step_num = 100):\n",
    "    x = init_x\n",
    "    \n",
    "    for i in range(step_num):\n",
    "        grad = numerical_gradient(f, x)\n",
    "        x -= lr*grad\n",
    "        \n",
    "    return x"
   ]
  },
  {
   "cell_type": "code",
   "execution_count": 25,
   "id": "01f9a285",
   "metadata": {
    "ExecuteTime": {
     "end_time": "2021-10-20T02:41:49.739939Z",
     "start_time": "2021-10-20T02:41:49.726946Z"
    }
   },
   "outputs": [],
   "source": [
    "class simpleNet:\n",
    "    def __init__(self):\n",
    "        self.W = np.random.randn(2, 3) # 2 by 3 짜리 정규분포(~N(0,1)) 랜덤생성\n",
    "        \n",
    "    def predict(self, x):\n",
    "        return np.dot(x, self.W)\n",
    "    \n",
    "    def loss(self, x, t):\n",
    "        z = self.predict(x)\n",
    "        y = softmax(z)\n",
    "        loss = cross_entropy_error(y, t)\n",
    "        return loss"
   ]
  }
 ],
 "metadata": {
  "hide_input": false,
  "kernelspec": {
   "display_name": "Python 3",
   "language": "python",
   "name": "python3"
  },
  "language_info": {
   "codemirror_mode": {
    "name": "ipython",
    "version": 3
   },
   "file_extension": ".py",
   "mimetype": "text/x-python",
   "name": "python",
   "nbconvert_exporter": "python",
   "pygments_lexer": "ipython3",
   "version": "3.8.8"
  },
  "toc": {
   "base_numbering": 1,
   "nav_menu": {},
   "number_sections": true,
   "sideBar": true,
   "skip_h1_title": false,
   "title_cell": "Table of Contents",
   "title_sidebar": "Contents",
   "toc_cell": false,
   "toc_position": {},
   "toc_section_display": true,
   "toc_window_display": false
  },
  "varInspector": {
   "cols": {
    "lenName": 16,
    "lenType": 16,
    "lenVar": 40
   },
   "kernels_config": {
    "python": {
     "delete_cmd_postfix": "",
     "delete_cmd_prefix": "del ",
     "library": "var_list.py",
     "varRefreshCmd": "print(var_dic_list())"
    },
    "r": {
     "delete_cmd_postfix": ") ",
     "delete_cmd_prefix": "rm(",
     "library": "var_list.r",
     "varRefreshCmd": "cat(var_dic_list()) "
    }
   },
   "types_to_exclude": [
    "module",
    "function",
    "builtin_function_or_method",
    "instance",
    "_Feature"
   ],
   "window_display": false
  }
 },
 "nbformat": 4,
 "nbformat_minor": 5
}
