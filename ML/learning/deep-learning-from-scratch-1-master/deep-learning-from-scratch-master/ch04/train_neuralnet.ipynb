{
 "cells": [
  {
   "cell_type": "code",
   "execution_count": 1,
   "id": "9dd62c1d",
   "metadata": {
    "ExecuteTime": {
     "end_time": "2021-10-20T14:36:18.207889Z",
     "start_time": "2021-10-20T14:36:17.774717Z"
    }
   },
   "outputs": [],
   "source": [
    "import numpy as np\n",
    "import sys, os\n",
    "sys.path.append(os.pardir)\n",
    "from dataset.mnist import load_mnist\n",
    "from two_layer_net import TwoLayerNet"
   ]
  },
  {
   "cell_type": "code",
   "execution_count": 2,
   "id": "90cbaa0b",
   "metadata": {
    "ExecuteTime": {
     "end_time": "2021-10-20T14:36:18.717703Z",
     "start_time": "2021-10-20T14:36:18.214885Z"
    }
   },
   "outputs": [],
   "source": [
    "(x_train, t_train), (x_test, t_test) = load_mnist(normalize = True, one_hot_label = True)"
   ]
  },
  {
   "cell_type": "code",
   "execution_count": 3,
   "id": "3c4b394a",
   "metadata": {
    "ExecuteTime": {
     "end_time": "2021-10-20T14:37:35.939987Z",
     "start_time": "2021-10-20T14:36:18.724439Z"
    }
   },
   "outputs": [
    {
     "name": "stdout",
     "output_type": "stream",
     "text": [
      "train acc, test acc, epoch | 0.7864, 0.7888, 1.0\n",
      "train acc, test acc, epoch | 0.8777, 0.879, 2.0\n",
      "train acc, test acc, epoch | 0.8979, 0.9013, 3.0\n",
      "train acc, test acc, epoch | 0.9083, 0.9115, 4.0\n",
      "train acc, test acc, epoch | 0.9144, 0.917, 5.0\n",
      "train acc, test acc, epoch | 0.9204, 0.9221, 6.0\n",
      "train acc, test acc, epoch | 0.9245, 0.9273, 7.0\n",
      "train acc, test acc, epoch | 0.9275, 0.929, 8.0\n",
      "train acc, test acc, epoch | 0.9314, 0.9325, 9.0\n",
      "train acc, test acc, epoch | 0.9338, 0.9349, 10.0\n",
      "train acc, test acc, epoch | 0.9366, 0.9373, 11.0\n",
      "train acc, test acc, epoch | 0.9388, 0.9377, 12.0\n",
      "train acc, test acc, epoch | 0.9413, 0.9411, 13.0\n",
      "train acc, test acc, epoch | 0.943, 0.9418, 14.0\n",
      "train acc, test acc, epoch | 0.945, 0.9439, 15.0\n",
      "train acc, test acc, epoch | 0.9466, 0.9451, 16.0\n"
     ]
    }
   ],
   "source": [
    "train_loss_list = []\n",
    "train_acc_list = []\n",
    "test_acc_list = []\n",
    "\n",
    "iters_num = 10000\n",
    "train_size = x_train.shape[0] # 60000\n",
    "batch_size = 100\n",
    "learning_rate = 0.1\n",
    "\n",
    "# 1epoch당 iter 수\n",
    "iter_per_epoch = max(train_size / batch_size, 1)\n",
    "\n",
    "max(train_size / batch_size, 1)\n",
    "\n",
    "network = TwoLayerNet(input_size = 784, hidden_size = 50, output_size = 10)\n",
    "\n",
    "for i in range(iters_num):\n",
    "    # 미니배치 생성\n",
    "    batch_mask = np.random.choice(train_size, batch_size) # train_size용 index를 batch_size 만큼 생성\n",
    "    x_batch = x_train[batch_mask] # 무작위로 추출된 batch_mask index로부터 x_train 값 뽑아내서 x_batch 생성\n",
    "    t_batch = t_train[batch_mask]\n",
    "    \n",
    "    # 기울기 계산\n",
    "#     grad = network.numerical_gradient(x_batch, t_batch)\n",
    "    grad = network.gradient(x_batch, t_batch) # 성능 개선판\n",
    "    \n",
    "    # 매개변수 갱신\n",
    "    for key in ('W1', 'b1', 'W2', 'b2'):\n",
    "        network.params[key] -= learning_rate * grad[key]\n",
    "        \n",
    "    # 학습 경과 기록\n",
    "    loss = network.loss(x_batch, t_batch)\n",
    "    train_loss_list.append(loss)\n",
    "    \n",
    "    # 1 epoch당 정확도 계산\n",
    "    if i % iter_per_epoch == 0 and not i == 0:  # iter_per_epoch =>  train_size(60000) / batch_size(100) = 600 -> iter가 600이 될때마다 나머지0 되니까 1 epoch 수행으로 판단\n",
    "        train_acc = network.accuracy(x_train, t_train)\n",
    "        test_acc = network.accuracy(x_test, t_test)\n",
    "        train_acc_list.append(train_acc)\n",
    "        test_acc_list.append(test_acc)\n",
    "        print(\"train acc, test acc, epoch | \" + str(round(train_acc, 4)) + \", \" + str(test_acc) + \", \" + str(i // iter_per_epoch))"
   ]
  },
  {
   "cell_type": "code",
   "execution_count": 4,
   "id": "568fb07c",
   "metadata": {
    "ExecuteTime": {
     "end_time": "2021-10-20T14:37:36.829269Z",
     "start_time": "2021-10-20T14:37:35.944430Z"
    }
   },
   "outputs": [],
   "source": [
    "import matplotlib.pylab as plt"
   ]
  },
  {
   "cell_type": "code",
   "execution_count": 5,
   "id": "31170b3f",
   "metadata": {
    "ExecuteTime": {
     "end_time": "2021-10-20T14:37:36.847293Z",
     "start_time": "2021-10-20T14:37:36.833303Z"
    }
   },
   "outputs": [],
   "source": [
    "x = np.arange(0.0, 16.0, 1)\n",
    "y1 = train_acc_list\n",
    "y2 = test_acc_list"
   ]
  },
  {
   "cell_type": "code",
   "execution_count": 6,
   "id": "a5b01691",
   "metadata": {
    "ExecuteTime": {
     "end_time": "2021-10-20T14:37:37.822481Z",
     "start_time": "2021-10-20T14:37:36.856288Z"
    }
   },
   "outputs": [
    {
     "data": {
      "image/png": "[encoded data removed]",
      "text/plain": [
       "<Figure size 432x288 with 1 Axes>"
      ]
     },
     "metadata": {
      "needs_background": "light"
     },
     "output_type": "display_data"
    }
   ],
   "source": [
    "plt.plot(x, y1, label = 'train_acc')\n",
    "plt.plot(x, y2, label = 'test_acc', linestyle = '--')\n",
    "plt.xlabel(\"epochs\")\n",
    "plt.ylabel(\"accuracy\")\n",
    "plt.legend(loc = 'lower right')\n",
    "plt.show()"
   ]
  }
 ],
 "metadata": {
  "hide_input": false,
  "kernelspec": {
   "display_name": "Python 3",
   "language": "python",
   "name": "python3"
  },
  "language_info": {
   "codemirror_mode": {
    "name": "ipython",
    "version": 3
   },
   "file_extension": ".py",
   "mimetype": "text/x-python",
   "name": "python",
   "nbconvert_exporter": "python",
   "pygments_lexer": "ipython3",
   "version": "3.8.8"
  }
 },
 "nbformat": 4,
 "nbformat_minor": 5
}
