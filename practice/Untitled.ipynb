{
 "cells": [
  {
   "cell_type": "code",
   "execution_count": 1,
   "id": "5fdf7c00",
   "metadata": {
    "ExecuteTime": {
     "end_time": "2021-09-21T04:05:11.860488Z",
     "start_time": "2021-09-21T04:05:11.836506Z"
    }
   },
   "outputs": [],
   "source": [
    "import numpy as np"
   ]
  },
  {
   "cell_type": "code",
   "execution_count": 2,
   "id": "8c014ac6",
   "metadata": {
    "ExecuteTime": {
     "end_time": "2021-09-21T04:05:18.577326Z",
     "start_time": "2021-09-21T04:05:18.567337Z"
    }
   },
   "outputs": [],
   "source": [
    "np.random.seed(1)"
   ]
  },
  {
   "cell_type": "code",
   "execution_count": 5,
   "id": "04fa5aec",
   "metadata": {
    "ExecuteTime": {
     "end_time": "2021-09-21T04:05:56.014247Z",
     "start_time": "2021-09-21T04:05:55.984263Z"
    }
   },
   "outputs": [
    {
     "data": {
      "text/plain": [
       "array([[-1.07296862],\n",
       "       [ 0.86540763]])"
      ]
     },
     "execution_count": 5,
     "metadata": {},
     "output_type": "execute_result"
    }
   ],
   "source": [
    "np.random.randn(2).reshape(-1,1)"
   ]
  },
  {
   "cell_type": "code",
   "execution_count": 9,
   "id": "f796377f",
   "metadata": {
    "ExecuteTime": {
     "end_time": "2021-09-21T04:23:58.165604Z",
     "start_time": "2021-09-21T04:23:58.144617Z"
    }
   },
   "outputs": [
    {
     "data": {
      "text/plain": [
       "array([0.20445225])"
      ]
     },
     "execution_count": 9,
     "metadata": {},
     "output_type": "execute_result"
    }
   ],
   "source": [
    "np.random.rand(1)"
   ]
  },
  {
   "cell_type": "code",
   "execution_count": 12,
   "id": "3f0c46aa",
   "metadata": {
    "ExecuteTime": {
     "end_time": "2021-09-21T04:51:34.501688Z",
     "start_time": "2021-09-21T04:51:34.478707Z"
    }
   },
   "outputs": [
    {
     "data": {
      "text/plain": [
       "array([[ 0.18121427,  0.56434487],\n",
       "       [-0.56651023,  0.7299756 ]])"
      ]
     },
     "execution_count": 12,
     "metadata": {},
     "output_type": "execute_result"
    }
   ],
   "source": [
    "np.random.randn(2, 2)"
   ]
  },
  {
   "cell_type": "code",
   "execution_count": 14,
   "id": "c124356b",
   "metadata": {
    "ExecuteTime": {
     "end_time": "2021-09-21T12:11:48.185181Z",
     "start_time": "2021-09-21T12:11:48.166193Z"
    }
   },
   "outputs": [],
   "source": [
    "mask = (1 < 0)"
   ]
  },
  {
   "cell_type": "code",
   "execution_count": 15,
   "id": "7c00a5b0",
   "metadata": {
    "ExecuteTime": {
     "end_time": "2021-09-21T12:11:50.584349Z",
     "start_time": "2021-09-21T12:11:50.565359Z"
    }
   },
   "outputs": [
    {
     "data": {
      "text/plain": [
       "False"
      ]
     },
     "execution_count": 15,
     "metadata": {},
     "output_type": "execute_result"
    }
   ],
   "source": [
    "mask"
   ]
  },
  {
   "cell_type": "code",
   "execution_count": null,
   "id": "7047ec2c",
   "metadata": {},
   "outputs": [],
   "source": []
  }
 ],
 "metadata": {
  "kernelspec": {
   "display_name": "Python 3",
   "language": "python",
   "name": "python3"
  },
  "language_info": {
   "codemirror_mode": {
    "name": "ipython",
    "version": 3
   },
   "file_extension": ".py",
   "mimetype": "text/x-python",
   "name": "python",
   "nbconvert_exporter": "python",
   "pygments_lexer": "ipython3",
   "version": "3.8.11"
  },
  "toc": {
   "base_numbering": 1,
   "nav_menu": {},
   "number_sections": true,
   "sideBar": true,
   "skip_h1_title": false,
   "title_cell": "Table of Contents",
   "title_sidebar": "Contents",
   "toc_cell": false,
   "toc_position": {},
   "toc_section_display": true,
   "toc_window_display": false
  },
  "varInspector": {
   "cols": {
    "lenName": 16,
    "lenType": 16,
    "lenVar": 40
   },
   "kernels_config": {
    "python": {
     "delete_cmd_postfix": "",
     "delete_cmd_prefix": "del ",
     "library": "var_list.py",
     "varRefreshCmd": "print(var_dic_list())"
    },
    "r": {
     "delete_cmd_postfix": ") ",
     "delete_cmd_prefix": "rm(",
     "library": "var_list.r",
     "varRefreshCmd": "cat(var_dic_list()) "
    }
   },
   "types_to_exclude": [
    "module",
    "function",
    "builtin_function_or_method",
    "instance",
    "_Feature"
   ],
   "window_display": false
  }
 },
 "nbformat": 4,
 "nbformat_minor": 5
}
