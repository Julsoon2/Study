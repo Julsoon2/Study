{
 "cells": [
  {
   "cell_type": "code",
   "execution_count": 1,
   "id": "ec17e871",
   "metadata": {
    "ExecuteTime": {
     "end_time": "2021-08-11T08:27:36.146062Z",
     "start_time": "2021-08-11T08:27:34.265999Z"
    }
   },
   "outputs": [],
   "source": [
    "from openpyxl import load_workbook # 파일 불러오기"
   ]
  },
  {
   "cell_type": "code",
   "execution_count": 2,
   "id": "dbed7b26",
   "metadata": {
    "ExecuteTime": {
     "end_time": "2021-08-11T08:28:30.007492Z",
     "start_time": "2021-08-11T08:28:29.931535Z"
    }
   },
   "outputs": [],
   "source": [
    "wb = load_workbook(\"sample.xlsx\") # sample.xlsx 파일 불러오기\n",
    "ws = wb.active # 활성화된 sheet 불러오기"
   ]
  },
  {
   "cell_type": "code",
   "execution_count": 5,
   "id": "8d090607",
   "metadata": {
    "ExecuteTime": {
     "end_time": "2021-08-11T08:30:39.798655Z",
     "start_time": "2021-08-11T08:30:39.770675Z"
    }
   },
   "outputs": [
    {
     "name": "stdout",
     "output_type": "stream",
     "text": [
      "1 2 3 4 5 6 7 8 9 10 \n",
      "11 12 13 14 15 16 17 18 19 20 \n",
      "21 22 23 24 25 26 27 28 29 30 \n",
      "31 32 33 34 35 36 37 38 39 40 \n",
      "41 42 43 44 45 46 47 48 49 50 \n",
      "51 52 53 54 55 56 57 58 59 60 \n",
      "61 62 63 64 65 66 67 68 69 70 \n",
      "71 72 73 74 75 76 77 78 79 80 \n",
      "81 82 83 84 85 86 87 88 89 90 \n",
      "91 92 93 94 95 96 97 98 99 100 \n"
     ]
    }
   ],
   "source": [
    "# cell 불러오기\n",
    "\n",
    "for x in range(1, ws.max_row+1):\n",
    "    for y in range(1, ws.max_column+1):\n",
    "        print(ws.cell(row = x, column= y).value, end = \" \") # 1 2 3 4\n",
    "    print() # 줄바꿈 용"
   ]
  },
  {
   "cell_type": "code",
   "execution_count": null,
   "id": "7eb5707e",
   "metadata": {},
   "outputs": [],
   "source": []
  }
 ],
 "metadata": {
  "kernelspec": {
   "display_name": "Python 3",
   "language": "python",
   "name": "python3"
  },
  "language_info": {
   "codemirror_mode": {
    "name": "ipython",
    "version": 3
   },
   "file_extension": ".py",
   "mimetype": "text/x-python",
   "name": "python",
   "nbconvert_exporter": "python",
   "pygments_lexer": "ipython3",
   "version": "3.8.8"
  },
  "toc": {
   "base_numbering": 1,
   "nav_menu": {},
   "number_sections": true,
   "sideBar": true,
   "skip_h1_title": false,
   "title_cell": "Table of Contents",
   "title_sidebar": "Contents",
   "toc_cell": false,
   "toc_position": {},
   "toc_section_display": true,
   "toc_window_display": false
  },
  "varInspector": {
   "cols": {
    "lenName": 16,
    "lenType": 16,
    "lenVar": 40
   },
   "kernels_config": {
    "python": {
     "delete_cmd_postfix": "",
     "delete_cmd_prefix": "del ",
     "library": "var_list.py",
     "varRefreshCmd": "print(var_dic_list())"
    },
    "r": {
     "delete_cmd_postfix": ") ",
     "delete_cmd_prefix": "rm(",
     "library": "var_list.r",
     "varRefreshCmd": "cat(var_dic_list()) "
    }
   },
   "types_to_exclude": [
    "module",
    "function",
    "builtin_function_or_method",
    "instance",
    "_Feature"
   ],
   "window_display": false
  }
 },
 "nbformat": 4,
 "nbformat_minor": 5
}
