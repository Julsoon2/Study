{
 "cells": [
  {
   "cell_type": "code",
   "execution_count": 1,
   "id": "b639286e",
   "metadata": {
    "ExecuteTime": {
     "end_time": "2021-08-11T07:07:34.683290Z",
     "start_time": "2021-08-11T07:07:34.670301Z"
    }
   },
   "outputs": [],
   "source": [
    "from openpyxl import Workbook"
   ]
  },
  {
   "cell_type": "code",
   "execution_count": 2,
   "id": "ca4bd68c",
   "metadata": {
    "ExecuteTime": {
     "end_time": "2021-08-11T07:08:23.197150Z",
     "start_time": "2021-08-11T07:08:23.176162Z"
    }
   },
   "outputs": [],
   "source": [
    "wb = Workbook() # 새 워크북 생성"
   ]
  },
  {
   "cell_type": "code",
   "execution_count": 3,
   "id": "0404fc9c",
   "metadata": {
    "ExecuteTime": {
     "end_time": "2021-08-11T07:12:43.320577Z",
     "start_time": "2021-08-11T07:12:43.206620Z"
    }
   },
   "outputs": [],
   "source": [
    "ws = wb.active # 현재 활성화 된 sheet 가져옴\n",
    "ws.title = 'Nadosheet' # sheet의 이름을 변경\n",
    "wb.save(\"sample.xlsx\")\n",
    "wb.close()"
   ]
  }
 ],
 "metadata": {
  "kernelspec": {
   "display_name": "Python 3",
   "language": "python",
   "name": "python3"
  },
  "language_info": {
   "codemirror_mode": {
    "name": "ipython",
    "version": 3
   },
   "file_extension": ".py",
   "mimetype": "text/x-python",
   "name": "python",
   "nbconvert_exporter": "python",
   "pygments_lexer": "ipython3",
   "version": "3.8.8"
  },
  "toc": {
   "base_numbering": 1,
   "nav_menu": {},
   "number_sections": true,
   "sideBar": true,
   "skip_h1_title": false,
   "title_cell": "Table of Contents",
   "title_sidebar": "Contents",
   "toc_cell": false,
   "toc_position": {},
   "toc_section_display": true,
   "toc_window_display": false
  },
  "varInspector": {
   "cols": {
    "lenName": 16,
    "lenType": 16,
    "lenVar": 40
   },
   "kernels_config": {
    "python": {
     "delete_cmd_postfix": "",
     "delete_cmd_prefix": "del ",
     "library": "var_list.py",
     "varRefreshCmd": "print(var_dic_list())"
    },
    "r": {
     "delete_cmd_postfix": ") ",
     "delete_cmd_prefix": "rm(",
     "library": "var_list.r",
     "varRefreshCmd": "cat(var_dic_list()) "
    }
   },
   "types_to_exclude": [
    "module",
    "function",
    "builtin_function_or_method",
    "instance",
    "_Feature"
   ],
   "window_display": false
  }
 },
 "nbformat": 4,
 "nbformat_minor": 5
}
