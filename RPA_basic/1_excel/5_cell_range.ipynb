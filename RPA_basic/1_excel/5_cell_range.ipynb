{
 "cells": [
  {
   "cell_type": "code",
   "execution_count": 1,
   "id": "964a69bb",
   "metadata": {
    "ExecuteTime": {
     "end_time": "2021-08-11T09:25:54.215236Z",
     "start_time": "2021-08-11T09:25:52.346185Z"
    },
    "hide_input": false
   },
   "outputs": [],
   "source": [
    "from openpyxl import Workbook\n",
    "from random import *"
   ]
  },
  {
   "cell_type": "code",
   "execution_count": 2,
   "id": "04e83e9c",
   "metadata": {
    "ExecuteTime": {
     "end_time": "2021-08-11T09:25:54.247226Z",
     "start_time": "2021-08-11T09:25:54.223240Z"
    },
    "hide_input": false
   },
   "outputs": [],
   "source": [
    "wb = Workbook()\n",
    "ws = wb.active"
   ]
  },
  {
   "cell_type": "code",
   "execution_count": 3,
   "id": "c1ed49dd",
   "metadata": {
    "ExecuteTime": {
     "end_time": "2021-08-11T09:25:54.279212Z",
     "start_time": "2021-08-11T09:25:54.260217Z"
    }
   },
   "outputs": [],
   "source": [
    "# 1줄씩 데이터 넣기\n",
    "ws.append([\"번호\", \"영어\", \"수학\"])"
   ]
  },
  {
   "cell_type": "code",
   "execution_count": 4,
   "id": "6ee06f94",
   "metadata": {
    "ExecuteTime": {
     "end_time": "2021-08-11T09:25:54.311189Z",
     "start_time": "2021-08-11T09:25:54.291197Z"
    }
   },
   "outputs": [],
   "source": [
    "for i in range(1, 11): # 10개 데이터 넣기\n",
    "    ws.append([i, randint(0, 100), randint(0, 100)])"
   ]
  },
  {
   "cell_type": "code",
   "execution_count": 5,
   "id": "3510dbc4",
   "metadata": {
    "ExecuteTime": {
     "end_time": "2021-08-11T09:25:54.343166Z",
     "start_time": "2021-08-11T09:25:54.318181Z"
    },
    "hide_input": false
   },
   "outputs": [
    {
     "name": "stdout",
     "output_type": "stream",
     "text": [
      "영어\n",
      "19\n",
      "77\n",
      "28\n",
      "67\n",
      "26\n",
      "64\n",
      "45\n",
      "0\n",
      "21\n",
      "3\n"
     ]
    }
   ],
   "source": [
    "col_B = ws[\"B\"] # 영어 column만 가지고오기\n",
    "for cell in col_B:\n",
    "    print(cell.value)"
   ]
  },
  {
   "cell_type": "code",
   "execution_count": 6,
   "id": "a8fe616f",
   "metadata": {
    "ExecuteTime": {
     "end_time": "2021-08-11T09:25:54.423122Z",
     "start_time": "2021-08-11T09:25:54.354160Z"
    }
   },
   "outputs": [
    {
     "name": "stdout",
     "output_type": "stream",
     "text": [
      "영어\n",
      "19\n",
      "77\n",
      "28\n",
      "67\n",
      "26\n",
      "64\n",
      "45\n",
      "0\n",
      "21\n",
      "3\n",
      "\n",
      "수학\n",
      "57\n",
      "41\n",
      "72\n",
      "95\n",
      "87\n",
      "89\n",
      "54\n",
      "79\n",
      "43\n",
      "74\n",
      "\n"
     ]
    },
    {
     "data": {
      "text/plain": [
       "((<Cell 'Sheet'.B1>,\n",
       "  <Cell 'Sheet'.B2>,\n",
       "  <Cell 'Sheet'.B3>,\n",
       "  <Cell 'Sheet'.B4>,\n",
       "  <Cell 'Sheet'.B5>,\n",
       "  <Cell 'Sheet'.B6>,\n",
       "  <Cell 'Sheet'.B7>,\n",
       "  <Cell 'Sheet'.B8>,\n",
       "  <Cell 'Sheet'.B9>,\n",
       "  <Cell 'Sheet'.B10>,\n",
       "  <Cell 'Sheet'.B11>),\n",
       " (<Cell 'Sheet'.C1>,\n",
       "  <Cell 'Sheet'.C2>,\n",
       "  <Cell 'Sheet'.C3>,\n",
       "  <Cell 'Sheet'.C4>,\n",
       "  <Cell 'Sheet'.C5>,\n",
       "  <Cell 'Sheet'.C6>,\n",
       "  <Cell 'Sheet'.C7>,\n",
       "  <Cell 'Sheet'.C8>,\n",
       "  <Cell 'Sheet'.C9>,\n",
       "  <Cell 'Sheet'.C10>,\n",
       "  <Cell 'Sheet'.C11>))"
      ]
     },
     "execution_count": 6,
     "metadata": {},
     "output_type": "execute_result"
    }
   ],
   "source": [
    "col_range = ws[\"B:C\"] # 영어, 수학 column 함께 가지고 오기\n",
    "for cols in col_range:\n",
    "    for cell in cols:\n",
    "        print(cell.value)\n",
    "    print()\n",
    "col_range"
   ]
  },
  {
   "cell_type": "code",
   "execution_count": 7,
   "id": "3a066e62",
   "metadata": {
    "ExecuteTime": {
     "end_time": "2021-08-11T09:25:54.455100Z",
     "start_time": "2021-08-11T09:25:54.429112Z"
    }
   },
   "outputs": [
    {
     "name": "stdout",
     "output_type": "stream",
     "text": [
      "번호\n",
      "영어\n",
      "수학\n"
     ]
    }
   ],
   "source": [
    "row_title = ws[1] # 1번째 row만 가지고 오기\n",
    "for cell in row_title:\n",
    "    print(cell.value)"
   ]
  },
  {
   "cell_type": "code",
   "execution_count": 8,
   "id": "4dfb627e",
   "metadata": {
    "ExecuteTime": {
     "end_time": "2021-08-11T09:25:54.503068Z",
     "start_time": "2021-08-11T09:25:54.480082Z"
    }
   },
   "outputs": [
    {
     "name": "stdout",
     "output_type": "stream",
     "text": [
      "1 19 57 \n",
      "2 77 41 \n",
      "3 28 72 \n",
      "4 67 95 \n",
      "5 26 87 \n"
     ]
    }
   ],
   "source": [
    "row_range = ws[2:6]\n",
    "for rows in row_range:\n",
    "    for cell in rows:\n",
    "        print(cell.value, end = \" \")\n",
    "    print()"
   ]
  },
  {
   "cell_type": "code",
   "execution_count": 9,
   "id": "af821112",
   "metadata": {
    "ExecuteTime": {
     "end_time": "2021-08-11T09:25:54.534047Z",
     "start_time": "2021-08-11T09:25:54.520056Z"
    }
   },
   "outputs": [],
   "source": [
    "from openpyxl.utils.cell import coordinate_from_string"
   ]
  },
  {
   "cell_type": "code",
   "execution_count": 10,
   "id": "c51e2d71",
   "metadata": {
    "ExecuteTime": {
     "end_time": "2021-08-11T09:25:54.565030Z",
     "start_time": "2021-08-11T09:25:54.543044Z"
    }
   },
   "outputs": [
    {
     "name": "stdout",
     "output_type": "stream",
     "text": [
      "A2 B2 C2 \n",
      "A3 B3 C3 \n",
      "A4 B4 C4 \n",
      "A5 B5 C5 \n",
      "A6 B6 C6 \n",
      "A7 B7 C7 \n",
      "A8 B8 C8 \n",
      "A9 B9 C9 \n",
      "A10 B10 C10 \n",
      "A11 B11 C11 \n"
     ]
    }
   ],
   "source": [
    "row_range = ws[2:ws.max_row]\n",
    "for rows in row_range:\n",
    "    for cell in rows:\n",
    "        print(cell.coordinate, end = \" \")\n",
    "    print()"
   ]
  },
  {
   "cell_type": "code",
   "execution_count": 11,
   "id": "c6e339b6",
   "metadata": {
    "ExecuteTime": {
     "end_time": "2021-08-11T09:25:54.597008Z",
     "start_time": "2021-08-11T09:25:54.571026Z"
    }
   },
   "outputs": [
    {
     "name": "stdout",
     "output_type": "stream",
     "text": [
      "A2 B2 C2 \n",
      "A3 B3 C3 \n",
      "A4 B4 C4 \n",
      "A5 B5 C5 \n",
      "A6 B6 C6 \n",
      "A7 B7 C7 \n",
      "A8 B8 C8 \n",
      "A9 B9 C9 \n",
      "A10 B10 C10 \n",
      "A11 B11 C11 \n"
     ]
    }
   ],
   "source": [
    "row_range = ws[2:ws.max_row]\n",
    "for rows in row_range:\n",
    "    for cell in rows:\n",
    "        xy = coordinate_from_string(cell.coordinate)\n",
    "#         print(coordinate_from_string(cell.coordinate), end = \" \")\n",
    "        print(xy[0], end =\"\")\n",
    "        print(xy[1], end =\" \")\n",
    "    print()"
   ]
  },
  {
   "cell_type": "code",
   "execution_count": 12,
   "id": "0ac1f13d",
   "metadata": {
    "ExecuteTime": {
     "end_time": "2021-08-11T09:25:54.628998Z",
     "start_time": "2021-08-11T09:25:54.607005Z"
    },
    "scrolled": true
   },
   "outputs": [
    {
     "name": "stdout",
     "output_type": "stream",
     "text": [
      "((<Cell 'Sheet'.A1>, <Cell 'Sheet'.B1>, <Cell 'Sheet'.C1>), (<Cell 'Sheet'.A2>, <Cell 'Sheet'.B2>, <Cell 'Sheet'.C2>), (<Cell 'Sheet'.A3>, <Cell 'Sheet'.B3>, <Cell 'Sheet'.C3>), (<Cell 'Sheet'.A4>, <Cell 'Sheet'.B4>, <Cell 'Sheet'.C4>), (<Cell 'Sheet'.A5>, <Cell 'Sheet'.B5>, <Cell 'Sheet'.C5>), (<Cell 'Sheet'.A6>, <Cell 'Sheet'.B6>, <Cell 'Sheet'.C6>), (<Cell 'Sheet'.A7>, <Cell 'Sheet'.B7>, <Cell 'Sheet'.C7>), (<Cell 'Sheet'.A8>, <Cell 'Sheet'.B8>, <Cell 'Sheet'.C8>), (<Cell 'Sheet'.A9>, <Cell 'Sheet'.B9>, <Cell 'Sheet'.C9>), (<Cell 'Sheet'.A10>, <Cell 'Sheet'.B10>, <Cell 'Sheet'.C10>), (<Cell 'Sheet'.A11>, <Cell 'Sheet'.B11>, <Cell 'Sheet'.C11>))\n"
     ]
    }
   ],
   "source": [
    "# 전체 rows\n",
    "print(tuple(ws.rows))"
   ]
  },
  {
   "cell_type": "code",
   "execution_count": 13,
   "id": "39f73e40",
   "metadata": {
    "ExecuteTime": {
     "end_time": "2021-08-11T09:25:54.660971Z",
     "start_time": "2021-08-11T09:25:54.635985Z"
    }
   },
   "outputs": [
    {
     "name": "stdout",
     "output_type": "stream",
     "text": [
      "영어\n",
      "19\n",
      "77\n",
      "28\n",
      "67\n",
      "26\n",
      "64\n",
      "45\n",
      "0\n",
      "21\n",
      "3\n"
     ]
    }
   ],
   "source": [
    "for row in tuple(ws.rows):\n",
    "    print(row[1].value)"
   ]
  },
  {
   "cell_type": "code",
   "execution_count": 14,
   "id": "596db88f",
   "metadata": {
    "ExecuteTime": {
     "end_time": "2021-08-11T09:25:54.691950Z",
     "start_time": "2021-08-11T09:25:54.666967Z"
    }
   },
   "outputs": [
    {
     "name": "stdout",
     "output_type": "stream",
     "text": [
      "((<Cell 'Sheet'.A1>, <Cell 'Sheet'.A2>, <Cell 'Sheet'.A3>, <Cell 'Sheet'.A4>, <Cell 'Sheet'.A5>, <Cell 'Sheet'.A6>, <Cell 'Sheet'.A7>, <Cell 'Sheet'.A8>, <Cell 'Sheet'.A9>, <Cell 'Sheet'.A10>, <Cell 'Sheet'.A11>), (<Cell 'Sheet'.B1>, <Cell 'Sheet'.B2>, <Cell 'Sheet'.B3>, <Cell 'Sheet'.B4>, <Cell 'Sheet'.B5>, <Cell 'Sheet'.B6>, <Cell 'Sheet'.B7>, <Cell 'Sheet'.B8>, <Cell 'Sheet'.B9>, <Cell 'Sheet'.B10>, <Cell 'Sheet'.B11>), (<Cell 'Sheet'.C1>, <Cell 'Sheet'.C2>, <Cell 'Sheet'.C3>, <Cell 'Sheet'.C4>, <Cell 'Sheet'.C5>, <Cell 'Sheet'.C6>, <Cell 'Sheet'.C7>, <Cell 'Sheet'.C8>, <Cell 'Sheet'.C9>, <Cell 'Sheet'.C10>, <Cell 'Sheet'.C11>))\n"
     ]
    }
   ],
   "source": [
    "# 전체 columns\n",
    "print(tuple(ws.columns))"
   ]
  },
  {
   "cell_type": "code",
   "execution_count": 15,
   "id": "5680afe1",
   "metadata": {
    "ExecuteTime": {
     "end_time": "2021-08-11T09:25:54.723934Z",
     "start_time": "2021-08-11T09:25:54.695948Z"
    }
   },
   "outputs": [
    {
     "name": "stdout",
     "output_type": "stream",
     "text": [
      "번호\n",
      "영어\n",
      "수학\n"
     ]
    }
   ],
   "source": [
    "for  column in tuple(ws.columns):\n",
    "    print(column[0].value)"
   ]
  },
  {
   "cell_type": "code",
   "execution_count": 16,
   "id": "95f1a0b2",
   "metadata": {
    "ExecuteTime": {
     "end_time": "2021-08-11T09:25:54.754911Z",
     "start_time": "2021-08-11T09:25:54.728928Z"
    }
   },
   "outputs": [
    {
     "name": "stdout",
     "output_type": "stream",
     "text": [
      "수학\n",
      "57\n",
      "41\n",
      "72\n",
      "95\n",
      "87\n",
      "89\n",
      "54\n",
      "79\n",
      "43\n",
      "74\n"
     ]
    }
   ],
   "source": [
    "for row in ws.iter_rows():\n",
    "    print(row[2].value)"
   ]
  },
  {
   "cell_type": "code",
   "execution_count": 17,
   "id": "ee45e330",
   "metadata": {
    "ExecuteTime": {
     "end_time": "2021-08-11T09:25:54.802883Z",
     "start_time": "2021-08-11T09:25:54.764905Z"
    }
   },
   "outputs": [
    {
     "name": "stdout",
     "output_type": "stream",
     "text": [
      "2\n",
      "77\n",
      "41\n"
     ]
    }
   ],
   "source": [
    "for column in ws.iter_cols():\n",
    "    print(column[2].value)"
   ]
  },
  {
   "cell_type": "code",
   "execution_count": 18,
   "id": "3a0773b7",
   "metadata": {
    "ExecuteTime": {
     "end_time": "2021-08-11T09:25:54.882836Z",
     "start_time": "2021-08-11T09:25:54.814875Z"
    }
   },
   "outputs": [],
   "source": [
    "wb.save(\"sample.xlsx\")"
   ]
  },
  {
   "cell_type": "code",
   "execution_count": 19,
   "id": "995ada07",
   "metadata": {
    "ExecuteTime": {
     "end_time": "2021-08-11T09:25:54.929806Z",
     "start_time": "2021-08-11T09:25:54.891827Z"
    }
   },
   "outputs": [
    {
     "data": {
      "text/plain": [
       "<bound method Workbook.save of <openpyxl.workbook.workbook.Workbook object at 0x000002081AB34B50>>"
      ]
     },
     "execution_count": 19,
     "metadata": {},
     "output_type": "execute_result"
    }
   ],
   "source": []
  }
 ],
 "metadata": {
  "kernelspec": {
   "display_name": "Python 3",
   "language": "python",
   "name": "python3"
  },
  "language_info": {
   "codemirror_mode": {
    "name": "ipython",
    "version": 3
   },
   "file_extension": ".py",
   "mimetype": "text/x-python",
   "name": "python",
   "nbconvert_exporter": "python",
   "pygments_lexer": "ipython3",
   "version": "3.8.8"
  },
  "toc": {
   "base_numbering": 1,
   "nav_menu": {},
   "number_sections": true,
   "sideBar": true,
   "skip_h1_title": false,
   "title_cell": "Table of Contents",
   "title_sidebar": "Contents",
   "toc_cell": false,
   "toc_position": {
    "height": "calc(100% - 180px)",
    "left": "10px",
    "top": "150px",
    "width": "384px"
   },
   "toc_section_display": true,
   "toc_window_display": false
  },
  "varInspector": {
   "cols": {
    "lenName": 16,
    "lenType": 16,
    "lenVar": 40
   },
   "kernels_config": {
    "python": {
     "delete_cmd_postfix": "",
     "delete_cmd_prefix": "del ",
     "library": "var_list.py",
     "varRefreshCmd": "print(var_dic_list())"
    },
    "r": {
     "delete_cmd_postfix": ") ",
     "delete_cmd_prefix": "rm(",
     "library": "var_list.r",
     "varRefreshCmd": "cat(var_dic_list()) "
    }
   },
   "types_to_exclude": [
    "module",
    "function",
    "builtin_function_or_method",
    "instance",
    "_Feature"
   ],
   "window_display": false
  }
 },
 "nbformat": 4,
 "nbformat_minor": 5
}
