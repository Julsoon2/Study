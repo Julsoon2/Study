{
 "cells": [
  {
   "cell_type": "code",
   "execution_count": 3,
   "id": "9e2e31f7",
   "metadata": {
    "ExecuteTime": {
     "end_time": "2021-08-11T07:29:02.340071Z",
     "start_time": "2021-08-11T07:29:00.916093Z"
    }
   },
   "outputs": [],
   "source": [
    "from openpyxl import Workbook"
   ]
  },
  {
   "cell_type": "code",
   "execution_count": 6,
   "id": "5729f546",
   "metadata": {
    "ExecuteTime": {
     "end_time": "2021-08-11T07:29:16.859945Z",
     "start_time": "2021-08-11T07:29:16.820970Z"
    }
   },
   "outputs": [
    {
     "name": "stdout",
     "output_type": "stream",
     "text": [
      "['Sheet', 'Mysheet', 'NewSheet', 'YourSheet']\n"
     ]
    }
   ],
   "source": [
    "wb = Workbook()\n",
    "ws = wb.create_sheet() # 새로운 sheet 기본 이름으로 생성\n",
    "\n",
    "ws.title = \"Mysheet\" # sheet 이름 변경\n",
    "ws.sheet_properties.tabColor= \"ff66ff\" # RGB 형태로 탭 색상 변경.\n",
    "\n",
    "ws1 = wb.create_sheet(\"YourSheet\") #주어진 이름으로 sheet 생성\n",
    "ws2 = wb.create_sheet(\"NewSheet\", index = 2) # 2번째 index에 sheet 생성\n",
    "# Sheet, Mysheet, NewSheet, YourSheet\n",
    "\n",
    "\n",
    "print(wb.sheetnames) # 모돈 Sheet 이름 확인"
   ]
  },
  {
   "cell_type": "code",
   "execution_count": 7,
   "id": "4869f11c",
   "metadata": {
    "ExecuteTime": {
     "end_time": "2021-08-11T07:29:19.009876Z",
     "start_time": "2021-08-11T07:29:18.878952Z"
    },
    "code_folding": []
   },
   "outputs": [],
   "source": [
    "new_ws = wb['NewSheet'] # Dictionary 형태로 sheet에 접근 가능\n",
    "\n",
    "# Sheet 복사\n",
    "new_ws['A1'] = 'Test'\n",
    "target = wb.copy_worksheet(new_ws)\n",
    "target.title = \"Copied Sheet\"\n",
    "\n",
    "wb.save(\"sample.xlsx\")"
   ]
  },
  {
   "cell_type": "code",
   "execution_count": null,
   "id": "e46308dd",
   "metadata": {},
   "outputs": [],
   "source": []
  }
 ],
 "metadata": {
  "kernelspec": {
   "display_name": "Python 3",
   "language": "python",
   "name": "python3"
  },
  "language_info": {
   "codemirror_mode": {
    "name": "ipython",
    "version": 3
   },
   "file_extension": ".py",
   "mimetype": "text/x-python",
   "name": "python",
   "nbconvert_exporter": "python",
   "pygments_lexer": "ipython3",
   "version": "3.8.8"
  },
  "toc": {
   "base_numbering": 1,
   "nav_menu": {},
   "number_sections": true,
   "sideBar": true,
   "skip_h1_title": false,
   "title_cell": "Table of Contents",
   "title_sidebar": "Contents",
   "toc_cell": false,
   "toc_position": {},
   "toc_section_display": true,
   "toc_window_display": false
  },
  "varInspector": {
   "cols": {
    "lenName": 16,
    "lenType": 16,
    "lenVar": 40
   },
   "kernels_config": {
    "python": {
     "delete_cmd_postfix": "",
     "delete_cmd_prefix": "del ",
     "library": "var_list.py",
     "varRefreshCmd": "print(var_dic_list())"
    },
    "r": {
     "delete_cmd_postfix": ") ",
     "delete_cmd_prefix": "rm(",
     "library": "var_list.r",
     "varRefreshCmd": "cat(var_dic_list()) "
    }
   },
   "types_to_exclude": [
    "module",
    "function",
    "builtin_function_or_method",
    "instance",
    "_Feature"
   ],
   "window_display": false
  }
 },
 "nbformat": 4,
 "nbformat_minor": 5
}
