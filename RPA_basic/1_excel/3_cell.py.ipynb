{
 "cells": [
  {
   "cell_type": "code",
   "execution_count": 1,
   "id": "7b95120e",
   "metadata": {
    "ExecuteTime": {
     "end_time": "2021-08-11T07:30:38.237451Z",
     "start_time": "2021-08-11T07:30:36.618028Z"
    }
   },
   "outputs": [],
   "source": [
    "from openpyxl import Workbook"
   ]
  },
  {
   "cell_type": "code",
   "execution_count": 2,
   "id": "316f99c8",
   "metadata": {
    "ExecuteTime": {
     "end_time": "2021-08-11T07:30:58.551132Z",
     "start_time": "2021-08-11T07:30:58.528148Z"
    }
   },
   "outputs": [],
   "source": [
    "wb = Workbook()\n",
    "ws = wb.active\n",
    "ws.title = \"NadoSheet\""
   ]
  },
  {
   "cell_type": "code",
   "execution_count": 5,
   "id": "89f891da",
   "metadata": {
    "ExecuteTime": {
     "end_time": "2021-08-11T07:32:19.299532Z",
     "start_time": "2021-08-11T07:32:19.225584Z"
    }
   },
   "outputs": [],
   "source": [
    "# Al 셀에 1이라는 값을 입력\n",
    "ws[\"A1\"] = 1\n",
    "ws[\"A2\"] = 2\n",
    "ws[\"A3\"] = 3\n",
    "\n",
    "ws[\"B1\"] = 4\n",
    "ws[\"B2\"] = 5\n",
    "ws[\"B3\"] = 6\n",
    "\n",
    "wb.save(\"sample.xlsx\")"
   ]
  },
  {
   "cell_type": "code",
   "execution_count": 9,
   "id": "ea049f12",
   "metadata": {
    "ExecuteTime": {
     "end_time": "2021-08-11T07:34:01.642675Z",
     "start_time": "2021-08-11T07:34:01.622673Z"
    }
   },
   "outputs": [
    {
     "name": "stdout",
     "output_type": "stream",
     "text": [
      "<Cell 'NadoSheet'.A1>\n",
      "1\n",
      "None\n"
     ]
    }
   ],
   "source": [
    "print(ws[\"A1\"]) # A1 셀의 정보를 출력\n",
    "print(ws[\"A1\"].value) # A1 셀의 값을 출력\n",
    "print(ws[\"A43\"].value) # A1 셀 값이 없으면 'None'을 출력"
   ]
  },
  {
   "cell_type": "code",
   "execution_count": 10,
   "id": "0272b158",
   "metadata": {
    "ExecuteTime": {
     "end_time": "2021-08-11T07:35:25.476004Z",
     "start_time": "2021-08-11T07:35:25.461015Z"
    }
   },
   "outputs": [
    {
     "name": "stdout",
     "output_type": "stream",
     "text": [
      "1\n",
      "4\n"
     ]
    }
   ],
   "source": [
    "ws.cell(row = 1, column = 1) # row = 1, 2, 3... column = A, B, C, ...\n",
    "\n",
    "print(ws.cell(row = 1, column = 1).value) # ws[\"A1\"].value\n",
    "print(ws.cell(row = 1, column = 2).value) # ws[\"A2\"].value"
   ]
  },
  {
   "cell_type": "code",
   "execution_count": 14,
   "id": "d88c6b45",
   "metadata": {
    "ExecuteTime": {
     "end_time": "2021-08-11T07:37:23.637035Z",
     "start_time": "2021-08-11T07:37:23.609054Z"
    }
   },
   "outputs": [
    {
     "name": "stdout",
     "output_type": "stream",
     "text": [
      "<Cell 'NadoSheet'.C1>\n",
      "10\n",
      "10\n"
     ]
    }
   ],
   "source": [
    "c = ws.cell(row =1, column = 3, value = 10) # ws[\"C1\"] = 10 or ws[\"C1\"].value = 10\n",
    "print(c)\n",
    "print(c.value)\n",
    "print(ws[\"C1\"].value)"
   ]
  },
  {
   "cell_type": "code",
   "execution_count": 15,
   "id": "89621968",
   "metadata": {
    "ExecuteTime": {
     "end_time": "2021-08-11T07:37:42.189119Z",
     "start_time": "2021-08-11T07:37:42.172130Z"
    }
   },
   "outputs": [],
   "source": [
    "from random import *"
   ]
  },
  {
   "cell_type": "code",
   "execution_count": 18,
   "id": "dbb7c258",
   "metadata": {
    "ExecuteTime": {
     "end_time": "2021-08-11T08:25:48.886478Z",
     "start_time": "2021-08-11T08:25:48.754561Z"
    }
   },
   "outputs": [],
   "source": [
    "# 반복문을이용해서 랜덤 숫자 채우기\n",
    "i = 1\n",
    "for x in range(1, 11):\n",
    "    for y in range(1, 11):\n",
    "#         ws.cell(row = x, column = y, value = randint(0, 100))\n",
    "        ws.cell(row = x, column = y, value = i)\n",
    "        i += 1\n",
    "wb.save(\"sample.xlsx\")"
   ]
  }
 ],
 "metadata": {
  "kernelspec": {
   "display_name": "Python 3",
   "language": "python",
   "name": "python3"
  },
  "language_info": {
   "codemirror_mode": {
    "name": "ipython",
    "version": 3
   },
   "file_extension": ".py",
   "mimetype": "text/x-python",
   "name": "python",
   "nbconvert_exporter": "python",
   "pygments_lexer": "ipython3",
   "version": "3.8.8"
  },
  "toc": {
   "base_numbering": 1,
   "nav_menu": {},
   "number_sections": true,
   "sideBar": true,
   "skip_h1_title": false,
   "title_cell": "Table of Contents",
   "title_sidebar": "Contents",
   "toc_cell": false,
   "toc_position": {},
   "toc_section_display": true,
   "toc_window_display": false
  },
  "varInspector": {
   "cols": {
    "lenName": 16,
    "lenType": 16,
    "lenVar": 40
   },
   "kernels_config": {
    "python": {
     "delete_cmd_postfix": "",
     "delete_cmd_prefix": "del ",
     "library": "var_list.py",
     "varRefreshCmd": "print(var_dic_list())"
    },
    "r": {
     "delete_cmd_postfix": ") ",
     "delete_cmd_prefix": "rm(",
     "library": "var_list.r",
     "varRefreshCmd": "cat(var_dic_list()) "
    }
   },
   "types_to_exclude": [
    "module",
    "function",
    "builtin_function_or_method",
    "instance",
    "_Feature"
   ],
   "window_display": false
  }
 },
 "nbformat": 4,
 "nbformat_minor": 5
}
