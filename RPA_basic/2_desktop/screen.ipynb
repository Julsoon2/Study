{
 "cells": [
  {
   "cell_type": "code",
   "execution_count": 1,
   "id": "f29ef6e3",
   "metadata": {
    "ExecuteTime": {
     "end_time": "2021-08-11T12:48:39.247019Z",
     "start_time": "2021-08-11T12:48:38.893806Z"
    }
   },
   "outputs": [],
   "source": [
    "import pyautogui"
   ]
  },
  {
   "cell_type": "code",
   "execution_count": 3,
   "id": "f9d61677",
   "metadata": {
    "ExecuteTime": {
     "end_time": "2021-08-11T12:49:00.434751Z",
     "start_time": "2021-08-11T12:48:59.997637Z"
    }
   },
   "outputs": [],
   "source": [
    "img = pyautogui.screenshot()\n",
    "img.save(\"screenshot.png\")"
   ]
  },
  {
   "cell_type": "code",
   "execution_count": 4,
   "id": "651b22a2",
   "metadata": {
    "ExecuteTime": {
     "end_time": "2021-08-11T12:51:01.763555Z",
     "start_time": "2021-08-11T12:49:41.608818Z"
    }
   },
   "outputs": [],
   "source": [
    "pyautogui.mouseInfo()"
   ]
  },
  {
   "cell_type": "code",
   "execution_count": 7,
   "id": "2454a4bd",
   "metadata": {
    "ExecuteTime": {
     "end_time": "2021-08-11T12:51:43.488180Z",
     "start_time": "2021-08-11T12:51:43.468197Z"
    }
   },
   "outputs": [
    {
     "name": "stdout",
     "output_type": "stream",
     "text": [
      "(37, 41, 49)\n"
     ]
    }
   ],
   "source": [
    "pixel = pyautogui.pixel(100, 100) # 해당 좌표의 rgb값 반환\n",
    "print(pixel)"
   ]
  },
  {
   "cell_type": "code",
   "execution_count": 8,
   "id": "69cd20cc",
   "metadata": {
    "ExecuteTime": {
     "end_time": "2021-08-11T12:52:32.021236Z",
     "start_time": "2021-08-11T12:52:31.970273Z"
    }
   },
   "outputs": [
    {
     "data": {
      "text/plain": [
       "True"
      ]
     },
     "execution_count": 8,
     "metadata": {},
     "output_type": "execute_result"
    }
   ],
   "source": [
    "pyautogui.pixelMatchesColor(100, 100, (37, 41, 49)) # 해당 x, y 좌표의 해당 컬러가 일치하는지 boolean 값"
   ]
  },
  {
   "cell_type": "code",
   "execution_count": 9,
   "id": "42afa792",
   "metadata": {
    "ExecuteTime": {
     "end_time": "2021-08-11T12:53:21.583574Z",
     "start_time": "2021-08-11T12:53:21.547596Z"
    }
   },
   "outputs": [
    {
     "data": {
      "text/plain": [
       "True"
      ]
     },
     "execution_count": 9,
     "metadata": {},
     "output_type": "execute_result"
    }
   ],
   "source": [
    "pyautogui.pixelMatchesColor(100, 100, pixel) # 해당 x, y 좌표의 해당 컬러가 일치하는지 boolean 값"
   ]
  }
 ],
 "metadata": {
  "kernelspec": {
   "display_name": "Python 3",
   "language": "python",
   "name": "python3"
  },
  "language_info": {
   "codemirror_mode": {
    "name": "ipython",
    "version": 3
   },
   "file_extension": ".py",
   "mimetype": "text/x-python",
   "name": "python",
   "nbconvert_exporter": "python",
   "pygments_lexer": "ipython3",
   "version": "3.8.8"
  },
  "toc": {
   "base_numbering": 1,
   "nav_menu": {},
   "number_sections": true,
   "sideBar": true,
   "skip_h1_title": false,
   "title_cell": "Table of Contents",
   "title_sidebar": "Contents",
   "toc_cell": false,
   "toc_position": {},
   "toc_section_display": true,
   "toc_window_display": false
  },
  "varInspector": {
   "cols": {
    "lenName": 16,
    "lenType": 16,
    "lenVar": 40
   },
   "kernels_config": {
    "python": {
     "delete_cmd_postfix": "",
     "delete_cmd_prefix": "del ",
     "library": "var_list.py",
     "varRefreshCmd": "print(var_dic_list())"
    },
    "r": {
     "delete_cmd_postfix": ") ",
     "delete_cmd_prefix": "rm(",
     "library": "var_list.r",
     "varRefreshCmd": "cat(var_dic_list()) "
    }
   },
   "types_to_exclude": [
    "module",
    "function",
    "builtin_function_or_method",
    "instance",
    "_Feature"
   ],
   "window_display": false
  }
 },
 "nbformat": 4,
 "nbformat_minor": 5
}
