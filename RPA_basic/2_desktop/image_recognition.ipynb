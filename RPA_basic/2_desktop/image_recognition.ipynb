{
 "cells": [
  {
   "cell_type": "code",
   "execution_count": 1,
   "id": "60ac1623",
   "metadata": {
    "ExecuteTime": {
     "end_time": "2021-08-11T12:59:57.249168Z",
     "start_time": "2021-08-11T12:59:56.911412Z"
    }
   },
   "outputs": [],
   "source": [
    "import pyautogui"
   ]
  },
  {
   "cell_type": "code",
   "execution_count": 5,
   "id": "24215ccf",
   "metadata": {
    "ExecuteTime": {
     "end_time": "2021-08-11T13:13:30.370965Z",
     "start_time": "2021-08-11T13:13:28.339884Z"
    }
   },
   "outputs": [
    {
     "data": {
      "text/plain": [
       "Box(left=188, top=87, width=41, height=26)"
      ]
     },
     "execution_count": 5,
     "metadata": {},
     "output_type": "execute_result"
    }
   ],
   "source": [
    "file_menu = pyautogui.locateOnScreen(\"file_menu.png\") # 윈도우키 + shift + s 키 눌러서 File 모양 캡쳐 후 저장해두자 -> png로 저장해야함\n",
    "                                                      # 저장해둔 해당 파일이 존재하는 곳의 정보가 저장됨\n",
    "file_menu                                             # (188, 87)의 위치, 가로, 세로 높이 반환"
   ]
  },
  {
   "cell_type": "code",
   "execution_count": 4,
   "id": "70080d2b",
   "metadata": {
    "ExecuteTime": {
     "end_time": "2021-08-11T13:05:10.340471Z",
     "start_time": "2021-08-11T13:05:10.203507Z"
    }
   },
   "outputs": [],
   "source": [
    "pyautogui.click(file_menu) # 해당 좌표 값의 중앙 부분 좌표 클릭"
   ]
  },
  {
   "cell_type": "code",
   "execution_count": null,
   "id": "b38c212c",
   "metadata": {},
   "outputs": [],
   "source": [
    "for i in pyautogui.locateAllOnScreen(\"checkbox.png\"): # 모두 다 찾아서 반환\n",
    "    print(i)\n",
    "    pyautogui.click(i)"
   ]
  },
  {
   "cell_type": "code",
   "execution_count": 6,
   "id": "f2d83e08",
   "metadata": {
    "ExecuteTime": {
     "end_time": "2021-08-11T13:13:39.687892Z",
     "start_time": "2021-08-11T13:13:38.322739Z"
    }
   },
   "outputs": [
    {
     "data": {
      "text/plain": [
       "Box(left=188, top=87, width=41, height=26)"
      ]
     },
     "execution_count": 6,
     "metadata": {},
     "output_type": "execute_result"
    }
   ],
   "source": [
    "# 속도 개선\n",
    "# 1. GrayScale\n",
    "\n",
    "file_menu = pyautogui.locateOnScreen(\"file_menu.png\", grayscale = True) # 정확도는 조금 떨어질 수 있음.\n",
    "file_menu     "
   ]
  },
  {
   "cell_type": "code",
   "execution_count": 9,
   "id": "9a1cb7fc",
   "metadata": {
    "ExecuteTime": {
     "end_time": "2021-08-11T13:15:41.129865Z",
     "start_time": "2021-08-11T13:15:40.764557Z"
    }
   },
   "outputs": [
    {
     "data": {
      "text/plain": [
       "Box(left=188, top=83, width=41, height=26)"
      ]
     },
     "execution_count": 9,
     "metadata": {},
     "output_type": "execute_result"
    }
   ],
   "source": [
    "# 속도 개선\n",
    "# 2. 범위 지정\n",
    "\n",
    "file_menu = pyautogui.locateOnScreen(\"file_menu.png\", region = (0, 0, 300, 300)) # x, y, width, height\n",
    "file_menu "
   ]
  },
  {
   "cell_type": "code",
   "execution_count": 12,
   "id": "b9bf7b0f",
   "metadata": {
    "ExecuteTime": {
     "end_time": "2021-08-11T13:49:15.514955Z",
     "start_time": "2021-08-11T13:49:15.336052Z"
    }
   },
   "outputs": [
    {
     "ename": "NotImplementedError",
     "evalue": "The confidence keyword argument is only available if OpenCV is installed.",
     "output_type": "error",
     "traceback": [
      "\u001b[1;31m---------------------------------------------------------------------------\u001b[0m",
      "\u001b[1;31mNotImplementedError\u001b[0m                       Traceback (most recent call last)",
      "\u001b[1;32m<ipython-input-12-e6a6c432171c>\u001b[0m in \u001b[0;36m<module>\u001b[1;34m\u001b[0m\n\u001b[0;32m      2\u001b[0m \u001b[1;31m# 3. 정확도 조정 - with opencv (pip install opencv-python)\u001b[0m\u001b[1;33m\u001b[0m\u001b[1;33m\u001b[0m\u001b[1;33m\u001b[0m\u001b[0m\n\u001b[0;32m      3\u001b[0m \u001b[1;33m\u001b[0m\u001b[0m\n\u001b[1;32m----> 4\u001b[1;33m \u001b[0mfile_menu\u001b[0m \u001b[1;33m=\u001b[0m \u001b[0mpyautogui\u001b[0m\u001b[1;33m.\u001b[0m\u001b[0mlocateOnScreen\u001b[0m\u001b[1;33m(\u001b[0m\u001b[1;34m\"file_menu.png\"\u001b[0m\u001b[1;33m,\u001b[0m \u001b[0mconfidence\u001b[0m \u001b[1;33m=\u001b[0m \u001b[1;36m0.7\u001b[0m\u001b[1;33m)\u001b[0m \u001b[1;31m# 70%\u001b[0m\u001b[1;33m\u001b[0m\u001b[1;33m\u001b[0m\u001b[0m\n\u001b[0m\u001b[0;32m      5\u001b[0m \u001b[0mfile_menu\u001b[0m\u001b[1;33m\u001b[0m\u001b[1;33m\u001b[0m\u001b[0m\n",
      "\u001b[1;32mC:\\ProgramData\\Anaconda3\\lib\\site-packages\\pyautogui\\__init__.py\u001b[0m in \u001b[0;36mwrapper\u001b[1;34m(*args, **kwargs)\u001b[0m\n\u001b[0;32m    173\u001b[0m     \u001b[1;32mdef\u001b[0m \u001b[0mwrapper\u001b[0m\u001b[1;33m(\u001b[0m\u001b[1;33m*\u001b[0m\u001b[0margs\u001b[0m\u001b[1;33m,\u001b[0m \u001b[1;33m**\u001b[0m\u001b[0mkwargs\u001b[0m\u001b[1;33m)\u001b[0m\u001b[1;33m:\u001b[0m\u001b[1;33m\u001b[0m\u001b[1;33m\u001b[0m\u001b[0m\n\u001b[0;32m    174\u001b[0m         \u001b[1;32mtry\u001b[0m\u001b[1;33m:\u001b[0m\u001b[1;33m\u001b[0m\u001b[1;33m\u001b[0m\u001b[0m\n\u001b[1;32m--> 175\u001b[1;33m             \u001b[1;32mreturn\u001b[0m \u001b[0mwrappedFunction\u001b[0m\u001b[1;33m(\u001b[0m\u001b[1;33m*\u001b[0m\u001b[0margs\u001b[0m\u001b[1;33m,\u001b[0m \u001b[1;33m**\u001b[0m\u001b[0mkwargs\u001b[0m\u001b[1;33m)\u001b[0m\u001b[1;33m\u001b[0m\u001b[1;33m\u001b[0m\u001b[0m\n\u001b[0m\u001b[0;32m    176\u001b[0m         \u001b[1;32mexcept\u001b[0m \u001b[0mpyscreeze\u001b[0m\u001b[1;33m.\u001b[0m\u001b[0mImageNotFoundException\u001b[0m\u001b[1;33m:\u001b[0m\u001b[1;33m\u001b[0m\u001b[1;33m\u001b[0m\u001b[0m\n\u001b[0;32m    177\u001b[0m             \u001b[1;32mraise\u001b[0m \u001b[0mImageNotFoundException\u001b[0m  \u001b[1;31m# Raise PyAutoGUI's ImageNotFoundException.\u001b[0m\u001b[1;33m\u001b[0m\u001b[1;33m\u001b[0m\u001b[0m\n",
      "\u001b[1;32mC:\\ProgramData\\Anaconda3\\lib\\site-packages\\pyautogui\\__init__.py\u001b[0m in \u001b[0;36mlocateOnScreen\u001b[1;34m(*args, **kwargs)\u001b[0m\n\u001b[0;32m    211\u001b[0m     \u001b[1;33m@\u001b[0m\u001b[0mraisePyAutoGUIImageNotFoundException\u001b[0m\u001b[1;33m\u001b[0m\u001b[1;33m\u001b[0m\u001b[0m\n\u001b[0;32m    212\u001b[0m     \u001b[1;32mdef\u001b[0m \u001b[0mlocateOnScreen\u001b[0m\u001b[1;33m(\u001b[0m\u001b[1;33m*\u001b[0m\u001b[0margs\u001b[0m\u001b[1;33m,\u001b[0m \u001b[1;33m**\u001b[0m\u001b[0mkwargs\u001b[0m\u001b[1;33m)\u001b[0m\u001b[1;33m:\u001b[0m\u001b[1;33m\u001b[0m\u001b[1;33m\u001b[0m\u001b[0m\n\u001b[1;32m--> 213\u001b[1;33m         \u001b[1;32mreturn\u001b[0m \u001b[0mpyscreeze\u001b[0m\u001b[1;33m.\u001b[0m\u001b[0mlocateOnScreen\u001b[0m\u001b[1;33m(\u001b[0m\u001b[1;33m*\u001b[0m\u001b[0margs\u001b[0m\u001b[1;33m,\u001b[0m \u001b[1;33m**\u001b[0m\u001b[0mkwargs\u001b[0m\u001b[1;33m)\u001b[0m\u001b[1;33m\u001b[0m\u001b[1;33m\u001b[0m\u001b[0m\n\u001b[0m\u001b[0;32m    214\u001b[0m \u001b[1;33m\u001b[0m\u001b[0m\n\u001b[0;32m    215\u001b[0m     \u001b[0mlocateOnScreen\u001b[0m\u001b[1;33m.\u001b[0m\u001b[0m__doc__\u001b[0m \u001b[1;33m=\u001b[0m \u001b[0mpyscreeze\u001b[0m\u001b[1;33m.\u001b[0m\u001b[0mlocateOnScreen\u001b[0m\u001b[1;33m.\u001b[0m\u001b[0m__doc__\u001b[0m\u001b[1;33m\u001b[0m\u001b[1;33m\u001b[0m\u001b[0m\n",
      "\u001b[1;32mC:\\ProgramData\\Anaconda3\\lib\\site-packages\\pyscreeze\\__init__.py\u001b[0m in \u001b[0;36mlocateOnScreen\u001b[1;34m(image, minSearchTime, **kwargs)\u001b[0m\n\u001b[0;32m    370\u001b[0m         \u001b[1;32mtry\u001b[0m\u001b[1;33m:\u001b[0m\u001b[1;33m\u001b[0m\u001b[1;33m\u001b[0m\u001b[0m\n\u001b[0;32m    371\u001b[0m             \u001b[0mscreenshotIm\u001b[0m \u001b[1;33m=\u001b[0m \u001b[0mscreenshot\u001b[0m\u001b[1;33m(\u001b[0m\u001b[0mregion\u001b[0m\u001b[1;33m=\u001b[0m\u001b[1;32mNone\u001b[0m\u001b[1;33m)\u001b[0m \u001b[1;31m# the locateAll() function must handle cropping to return accurate coordinates, so don't pass a region here.\u001b[0m\u001b[1;33m\u001b[0m\u001b[1;33m\u001b[0m\u001b[0m\n\u001b[1;32m--> 372\u001b[1;33m             \u001b[0mretVal\u001b[0m \u001b[1;33m=\u001b[0m \u001b[0mlocate\u001b[0m\u001b[1;33m(\u001b[0m\u001b[0mimage\u001b[0m\u001b[1;33m,\u001b[0m \u001b[0mscreenshotIm\u001b[0m\u001b[1;33m,\u001b[0m \u001b[1;33m**\u001b[0m\u001b[0mkwargs\u001b[0m\u001b[1;33m)\u001b[0m\u001b[1;33m\u001b[0m\u001b[1;33m\u001b[0m\u001b[0m\n\u001b[0m\u001b[0;32m    373\u001b[0m             \u001b[1;32mtry\u001b[0m\u001b[1;33m:\u001b[0m\u001b[1;33m\u001b[0m\u001b[1;33m\u001b[0m\u001b[0m\n\u001b[0;32m    374\u001b[0m                 \u001b[0mscreenshotIm\u001b[0m\u001b[1;33m.\u001b[0m\u001b[0mfp\u001b[0m\u001b[1;33m.\u001b[0m\u001b[0mclose\u001b[0m\u001b[1;33m(\u001b[0m\u001b[1;33m)\u001b[0m\u001b[1;33m\u001b[0m\u001b[1;33m\u001b[0m\u001b[0m\n",
      "\u001b[1;32mC:\\ProgramData\\Anaconda3\\lib\\site-packages\\pyscreeze\\__init__.py\u001b[0m in \u001b[0;36mlocate\u001b[1;34m(needleImage, haystackImage, **kwargs)\u001b[0m\n\u001b[0;32m    350\u001b[0m     \u001b[1;31m# Note: The gymnastics in this function is because we want to make sure to exhaust the iterator so that the needle and haystack files are closed in locateAll.\u001b[0m\u001b[1;33m\u001b[0m\u001b[1;33m\u001b[0m\u001b[1;33m\u001b[0m\u001b[0m\n\u001b[0;32m    351\u001b[0m     \u001b[0mkwargs\u001b[0m\u001b[1;33m[\u001b[0m\u001b[1;34m'limit'\u001b[0m\u001b[1;33m]\u001b[0m \u001b[1;33m=\u001b[0m \u001b[1;36m1\u001b[0m\u001b[1;33m\u001b[0m\u001b[1;33m\u001b[0m\u001b[0m\n\u001b[1;32m--> 352\u001b[1;33m     \u001b[0mpoints\u001b[0m \u001b[1;33m=\u001b[0m \u001b[0mtuple\u001b[0m\u001b[1;33m(\u001b[0m\u001b[0mlocateAll\u001b[0m\u001b[1;33m(\u001b[0m\u001b[0mneedleImage\u001b[0m\u001b[1;33m,\u001b[0m \u001b[0mhaystackImage\u001b[0m\u001b[1;33m,\u001b[0m \u001b[1;33m**\u001b[0m\u001b[0mkwargs\u001b[0m\u001b[1;33m)\u001b[0m\u001b[1;33m)\u001b[0m\u001b[1;33m\u001b[0m\u001b[1;33m\u001b[0m\u001b[0m\n\u001b[0m\u001b[0;32m    353\u001b[0m     \u001b[1;32mif\u001b[0m \u001b[0mlen\u001b[0m\u001b[1;33m(\u001b[0m\u001b[0mpoints\u001b[0m\u001b[1;33m)\u001b[0m \u001b[1;33m>\u001b[0m \u001b[1;36m0\u001b[0m\u001b[1;33m:\u001b[0m\u001b[1;33m\u001b[0m\u001b[1;33m\u001b[0m\u001b[0m\n\u001b[0;32m    354\u001b[0m         \u001b[1;32mreturn\u001b[0m \u001b[0mpoints\u001b[0m\u001b[1;33m[\u001b[0m\u001b[1;36m0\u001b[0m\u001b[1;33m]\u001b[0m\u001b[1;33m\u001b[0m\u001b[1;33m\u001b[0m\u001b[0m\n",
      "\u001b[1;32mC:\\ProgramData\\Anaconda3\\lib\\site-packages\\pyscreeze\\__init__.py\u001b[0m in \u001b[0;36m_locateAll_python\u001b[1;34m(needleImage, haystackImage, grayscale, limit, region, step, confidence)\u001b[0m\n\u001b[0;32m    250\u001b[0m     \"\"\"\n\u001b[0;32m    251\u001b[0m     \u001b[1;32mif\u001b[0m \u001b[0mconfidence\u001b[0m \u001b[1;32mis\u001b[0m \u001b[1;32mnot\u001b[0m \u001b[1;32mNone\u001b[0m\u001b[1;33m:\u001b[0m\u001b[1;33m\u001b[0m\u001b[1;33m\u001b[0m\u001b[0m\n\u001b[1;32m--> 252\u001b[1;33m         \u001b[1;32mraise\u001b[0m \u001b[0mNotImplementedError\u001b[0m\u001b[1;33m(\u001b[0m\u001b[1;34m'The confidence keyword argument is only available if OpenCV is installed.'\u001b[0m\u001b[1;33m)\u001b[0m\u001b[1;33m\u001b[0m\u001b[1;33m\u001b[0m\u001b[0m\n\u001b[0m\u001b[0;32m    253\u001b[0m \u001b[1;33m\u001b[0m\u001b[0m\n\u001b[0;32m    254\u001b[0m     \u001b[1;31m# setup all the arguments\u001b[0m\u001b[1;33m\u001b[0m\u001b[1;33m\u001b[0m\u001b[1;33m\u001b[0m\u001b[0m\n",
      "\u001b[1;31mNotImplementedError\u001b[0m: The confidence keyword argument is only available if OpenCV is installed."
     ]
    }
   ],
   "source": [
    "# 속도 개선\n",
    "# 3. 정확도 조정 - with opencv (pip install opencv-python)\n",
    "\n",
    "file_menu = pyautogui.locateOnScreen(\"file_menu.png\", confidence = 0.7) # 70%\n",
    "file_menu"
   ]
  },
  {
   "cell_type": "code",
   "execution_count": 25,
   "id": "0ccc18b0",
   "metadata": {
    "ExecuteTime": {
     "end_time": "2021-08-11T13:56:13.576958Z",
     "start_time": "2021-08-11T13:55:55.308603Z"
    }
   },
   "outputs": [
    {
     "name": "stdout",
     "output_type": "stream",
     "text": [
      "발견 실패\n",
      "발견 실패\n",
      "발견 실패\n",
      "발견 실패\n"
     ]
    }
   ],
   "source": [
    "# 자동화 대상이 바로 보여지지 않는 경우(시간 지연)\n",
    "\n",
    "file_menu_notepad = pyautogui.locateOnScreen(\"file_menu_notepad.png\")\n",
    "while file_menu_notepad is None:\n",
    "    file_menu_notepad = pyautogui.locateOnScreen(\"file_menu_notepad.png\")\n",
    "    print(\"발견 실패\")\n",
    "    \n",
    "pyautogui.click(file_menu_notepad)"
   ]
  },
  {
   "cell_type": "code",
   "execution_count": 27,
   "id": "b71cbc97",
   "metadata": {
    "ExecuteTime": {
     "end_time": "2021-08-11T13:59:52.259864Z",
     "start_time": "2021-08-11T13:59:45.858774Z"
    }
   },
   "outputs": [],
   "source": [
    "# 일정 시간만 지연(TimeOut)\n",
    "\n",
    "import time\n",
    "import sys\n",
    "\n",
    "timeout = 10\n",
    "start = time.time()\n",
    "\n",
    "file_menu_notepad = None\n",
    "\n",
    "while file_menu_notepad is None:\n",
    "    file_menu_notepad = pyautogui.locateOnScreen(\"file_menu_notepad.png\")\n",
    "    end = time.time()\n",
    "    if end - start > timeout:\n",
    "        print(\"시간 종료\")\n",
    "        sys.exit()\n",
    "        \n",
    "pyautogui.click(file_menu_notepad)"
   ]
  }
 ],
 "metadata": {
  "kernelspec": {
   "display_name": "Python 3",
   "language": "python",
   "name": "python3"
  },
  "language_info": {
   "codemirror_mode": {
    "name": "ipython",
    "version": 3
   },
   "file_extension": ".py",
   "mimetype": "text/x-python",
   "name": "python",
   "nbconvert_exporter": "python",
   "pygments_lexer": "ipython3",
   "version": "3.8.8"
  },
  "toc": {
   "base_numbering": 1,
   "nav_menu": {},
   "number_sections": true,
   "sideBar": true,
   "skip_h1_title": false,
   "title_cell": "Table of Contents",
   "title_sidebar": "Contents",
   "toc_cell": false,
   "toc_position": {},
   "toc_section_display": true,
   "toc_window_display": false
  },
  "varInspector": {
   "cols": {
    "lenName": 16,
    "lenType": 16,
    "lenVar": 40
   },
   "kernels_config": {
    "python": {
     "delete_cmd_postfix": "",
     "delete_cmd_prefix": "del ",
     "library": "var_list.py",
     "varRefreshCmd": "print(var_dic_list())"
    },
    "r": {
     "delete_cmd_postfix": ") ",
     "delete_cmd_prefix": "rm(",
     "library": "var_list.r",
     "varRefreshCmd": "cat(var_dic_list()) "
    }
   },
   "types_to_exclude": [
    "module",
    "function",
    "builtin_function_or_method",
    "instance",
    "_Feature"
   ],
   "window_display": false
  }
 },
 "nbformat": 4,
 "nbformat_minor": 5
}
