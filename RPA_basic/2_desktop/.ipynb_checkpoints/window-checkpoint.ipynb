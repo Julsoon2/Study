{
 "cells": [
  {
   "cell_type": "code",
   "execution_count": 4,
   "id": "a9136e3a",
   "metadata": {
    "ExecuteTime": {
     "end_time": "2021-08-14T00:06:59.306168Z",
     "start_time": "2021-08-14T00:06:59.289179Z"
    }
   },
   "outputs": [],
   "source": [
    "import pyautogui"
   ]
  },
  {
   "cell_type": "code",
   "execution_count": 8,
   "id": "7c706f44",
   "metadata": {
    "ExecuteTime": {
     "end_time": "2021-08-14T00:07:13.997185Z",
     "start_time": "2021-08-14T00:07:13.850065Z"
    },
    "hide_input": false
   },
   "outputs": [
    {
     "name": "stdout",
     "output_type": "stream",
     "text": [
      "window - Jupyter Notebook - Chrome\n",
      "Size(width=1616, height=876)\n",
      "-8 -8 1608 868\n"
     ]
    }
   ],
   "source": [
    "fw = pyautogui.getActiveWindow() # 현재 활성화된 창 정보 가져오기\n",
    "print(fw.title) # 창의 제목 정보\n",
    "print(fw.size) # 창의 크기 정보(w,h)\n",
    "print(fw.left, fw.top, fw.right, fw.bottom) # 창의 좌표 정보\n",
    "pyautogui.click(fw.left + 400, fw.top + 20)"
   ]
  },
  {
   "cell_type": "code",
   "execution_count": 6,
   "id": "c07fb28b",
   "metadata": {
    "ExecuteTime": {
     "end_time": "2021-08-14T00:07:00.386156Z",
     "start_time": "2021-08-14T00:07:00.353173Z"
    }
   },
   "outputs": [
    {
     "name": "stdout",
     "output_type": "stream",
     "text": [
      "<Win32Window left=\"0\", top=\"860\", width=\"1600\", height=\"40\", title=\"\">\n",
      "<Win32Window left=\"-8\", top=\"-8\", width=\"1616\", height=\"876\", title=\"window - Jupyter Notebook - Chrome\">\n",
      "<Win32Window left=\"1769\", top=\"197\", width=\"1200\", height=\"629\", title=\"제목 없음 - Windows 메모장\">\n",
      "<Win32Window left=\"1592\", top=\"-8\", width=\"1936\", height=\"1096\", title=\"파이썬 코딩 무료 강의 (활용편4) - 업무자동화(RPA), 이제는 일하는 척(?)만 하세요 - YouTube\">\n",
      "<Win32Window left=\"0\", top=\"1\", width=\"1024\", height=\"800\", title=\"설정\">\n",
      "<Win32Window left=\"200\", top=\"33\", width=\"1040\", height=\"809\", title=\"설정\">\n",
      "<Win32Window left=\"0\", top=\"1\", width=\"320\", height=\"532\", title=\"계산기\">\n",
      "<Win32Window left=\"1194\", top=\"149\", width=\"336\", height=\"541\", title=\"계산기\">\n",
      "<Win32Window left=\"0\", top=\"0\", width=\"1600\", height=\"860\", title=\"\">\n",
      "<Win32Window left=\"0\", top=\"0\", width=\"1600\", height=\"900\", title=\"Microsoft Text Input Application\">\n",
      "<Win32Window left=\"0\", top=\"0\", width=\"0\", height=\"0\", title=\"\">\n",
      "<Win32Window left=\"1615\", top=\"0\", width=\"1905\", height=\"4\", title=\"\">\n",
      "<Win32Window left=\"15\", top=\"0\", width=\"1585\", height=\"4\", title=\"\">\n",
      "<Win32Window left=\"0\", top=\"0\", width=\"0\", height=\"0\", title=\"\">\n",
      "<Win32Window left=\"0\", top=\"0\", width=\"0\", height=\"0\", title=\"\">\n",
      "<Win32Window left=\"-32000\", top=\"-32000\", width=\"160\", height=\"28\", title=\"Jupyter Notebook (Anaconda3)\">\n",
      "<Win32Window left=\"0\", top=\"0\", width=\"3520\", height=\"1080\", title=\"Program Manager\">\n"
     ]
    }
   ],
   "source": [
    "for w in pyautogui.getAllWindows():\n",
    "    print(w) # 모든 윈도우 가져오기"
   ]
  },
  {
   "cell_type": "code",
   "execution_count": 21,
   "id": "b53e0be2",
   "metadata": {
    "ExecuteTime": {
     "end_time": "2021-08-14T00:12:24.491562Z",
     "start_time": "2021-08-14T00:12:24.464578Z"
    },
    "scrolled": true
   },
   "outputs": [
    {
     "name": "stdout",
     "output_type": "stream",
     "text": [
      "<Win32Window left=\"218\", top=\"242\", width=\"1200\", height=\"629\", title=\"*제목 없음 - Windows 메모장\">\n"
     ]
    }
   ],
   "source": [
    "w = pyautogui.getWindowsWithTitle(\"제목 없음\")[0]\n",
    "print(w)\n",
    "w.activate()"
   ]
  },
  {
   "cell_type": "code",
   "execution_count": 21,
   "id": "e925da01",
   "metadata": {
    "ExecuteTime": {
     "end_time": "2021-08-13T23:31:03.025728Z",
     "start_time": "2021-08-13T23:31:02.934771Z"
    }
   },
   "outputs": [],
   "source": [
    "if w.isMaximized == False: # 창 최대화\n",
    "    w.maximize()"
   ]
  },
  {
   "cell_type": "code",
   "execution_count": null,
   "id": "d62a1130",
   "metadata": {},
   "outputs": [],
   "source": [
    "if w.isMinimized == False: # 창 최소화\n",
    "    w.minimize()"
   ]
  },
  {
   "cell_type": "code",
   "execution_count": 24,
   "id": "04ae0470",
   "metadata": {
    "ExecuteTime": {
     "end_time": "2021-08-13T23:31:56.485005Z",
     "start_time": "2021-08-13T23:31:56.296116Z"
    }
   },
   "outputs": [],
   "source": [
    "w.restore() # 화면 원복"
   ]
  },
  {
   "cell_type": "code",
   "execution_count": 25,
   "id": "26bba3c6",
   "metadata": {
    "ExecuteTime": {
     "end_time": "2021-08-13T23:32:11.309984Z",
     "start_time": "2021-08-13T23:32:11.292001Z"
    }
   },
   "outputs": [],
   "source": [
    "w.close() # 윈도우 닫기"
   ]
  }
 ],
 "metadata": {
  "kernelspec": {
   "display_name": "Python 3",
   "language": "python",
   "name": "python3"
  },
  "language_info": {
   "codemirror_mode": {
    "name": "ipython",
    "version": 3
   },
   "file_extension": ".py",
   "mimetype": "text/x-python",
   "name": "python",
   "nbconvert_exporter": "python",
   "pygments_lexer": "ipython3",
   "version": "3.8.8"
  },
  "toc": {
   "base_numbering": 1,
   "nav_menu": {},
   "number_sections": true,
   "sideBar": true,
   "skip_h1_title": false,
   "title_cell": "Table of Contents",
   "title_sidebar": "Contents",
   "toc_cell": false,
   "toc_position": {},
   "toc_section_display": true,
   "toc_window_display": false
  },
  "varInspector": {
   "cols": {
    "lenName": 16,
    "lenType": 16,
    "lenVar": 40
   },
   "kernels_config": {
    "python": {
     "delete_cmd_postfix": "",
     "delete_cmd_prefix": "del ",
     "library": "var_list.py",
     "varRefreshCmd": "print(var_dic_list())"
    },
    "r": {
     "delete_cmd_postfix": ") ",
     "delete_cmd_prefix": "rm(",
     "library": "var_list.r",
     "varRefreshCmd": "cat(var_dic_list()) "
    }
   },
   "types_to_exclude": [
    "module",
    "function",
    "builtin_function_or_method",
    "instance",
    "_Feature"
   ],
   "window_display": false
  }
 },
 "nbformat": 4,
 "nbformat_minor": 5
}
