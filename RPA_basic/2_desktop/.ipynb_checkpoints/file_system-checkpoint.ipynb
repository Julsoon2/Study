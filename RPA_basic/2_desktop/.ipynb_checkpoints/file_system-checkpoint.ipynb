{
 "cells": [
  {
   "cell_type": "code",
   "execution_count": 11,
   "id": "9b846fde",
   "metadata": {
    "ExecuteTime": {
     "end_time": "2021-08-14T02:10:22.680461Z",
     "start_time": "2021-08-14T02:10:22.666466Z"
    }
   },
   "outputs": [],
   "source": [
    "import os"
   ]
  },
  {
   "cell_type": "code",
   "execution_count": 12,
   "id": "8fceb57c",
   "metadata": {
    "ExecuteTime": {
     "end_time": "2021-08-14T02:10:23.282628Z",
     "start_time": "2021-08-14T02:10:23.261640Z"
    }
   },
   "outputs": [
    {
     "name": "stdout",
     "output_type": "stream",
     "text": [
      "C:\\Users\\juls\\PythonWorkspace\n"
     ]
    }
   ],
   "source": [
    "print(os.getcwd())"
   ]
  },
  {
   "cell_type": "code",
   "execution_count": 13,
   "id": "caa1e40b",
   "metadata": {
    "ExecuteTime": {
     "end_time": "2021-08-14T02:10:24.656385Z",
     "start_time": "2021-08-14T02:10:24.641393Z"
    }
   },
   "outputs": [
    {
     "name": "stdout",
     "output_type": "stream",
     "text": [
      "C:\\Users\\juls\n"
     ]
    }
   ],
   "source": [
    "os.chdir(\"..\") # 상위 폴더로 이동\n",
    "print(os.getcwd())"
   ]
  },
  {
   "cell_type": "code",
   "execution_count": 15,
   "id": "063a8e73",
   "metadata": {
    "ExecuteTime": {
     "end_time": "2021-08-14T02:10:50.714253Z",
     "start_time": "2021-08-14T02:10:50.698269Z"
    }
   },
   "outputs": [
    {
     "name": "stdout",
     "output_type": "stream",
     "text": [
      "C:\\\n"
     ]
    }
   ],
   "source": [
    "os.chdir(\"../..\") # 상위의 상위 폴더로 이동\n",
    "print(os.getcwd())"
   ]
  },
  {
   "cell_type": "code",
   "execution_count": 16,
   "id": "aa3c9dd6",
   "metadata": {
    "ExecuteTime": {
     "end_time": "2021-08-14T02:11:20.229922Z",
     "start_time": "2021-08-14T02:11:20.204936Z"
    }
   },
   "outputs": [
    {
     "name": "stdout",
     "output_type": "stream",
     "text": [
      "c:\\\n"
     ]
    }
   ],
   "source": [
    "os.chdir(\"c:/\") # 절대 경로로 이동\n",
    "print(os.getcwd())"
   ]
  },
  {
   "cell_type": "code",
   "execution_count": 17,
   "id": "10cb7990",
   "metadata": {
    "ExecuteTime": {
     "end_time": "2021-08-14T02:12:38.871581Z",
     "start_time": "2021-08-14T02:12:38.847595Z"
    }
   },
   "outputs": [
    {
     "name": "stdout",
     "output_type": "stream",
     "text": [
      "c:\\my_file.text\n"
     ]
    }
   ],
   "source": [
    "# 파일 경로 만들기\n",
    "file_path = os.path.join(os.getcwd(), \"my_file.text\") # 경로 이름 자동으로 합쳐서 절대 경로 만들어 return\n",
    "print(file_path)"
   ]
  },
  {
   "cell_type": "code",
   "execution_count": 18,
   "id": "2a4a6806",
   "metadata": {
    "ExecuteTime": {
     "end_time": "2021-08-14T02:16:21.926476Z",
     "start_time": "2021-08-14T02:16:21.912488Z"
    }
   },
   "outputs": [
    {
     "name": "stdout",
     "output_type": "stream",
     "text": [
      "C:\\Users\\juls\\PythonWorkspace\\rpa_basic\\2_desktop\n"
     ]
    }
   ],
   "source": [
    "# 파일 경로에서 폴더 정보 가져오기\n",
    "# r은 역슬래시 무시할수 있게 해줌\n",
    "print(os.path.dirname(r\"C:\\Users\\juls\\PythonWorkspace\\rpa_basic\\2_desktop\\my_file.txt\")) # 최종 파일의 폴더 경로만 가져옴"
   ]
  },
  {
   "cell_type": "code",
   "execution_count": 27,
   "id": "e74cbf0a",
   "metadata": {
    "ExecuteTime": {
     "end_time": "2021-08-14T02:24:19.252092Z",
     "start_time": "2021-08-14T02:24:19.226110Z"
    }
   },
   "outputs": [
    {
     "name": "stdout",
     "output_type": "stream",
     "text": [
      "C:\\Users\\juls\\PythonWorkspace\\rpa_basic\\2_desktop\n",
      "None\n",
      "1628681744.9385476\n",
      "2021-08-11 20:35:44.938548\n",
      "20210811 20:35:44\n"
     ]
    }
   ],
   "source": [
    "# 파일 정보 가져오기\n",
    "import time\n",
    "import datetime\n",
    "print(os.getcwd())\n",
    "print(os.chdir(os.path.dirname(r\"C:\\Users\\juls\\PythonWorkspace\\rpa_basic\\2_desktop\\my_file.txt\")))\n",
    "file_path = os.path.dirname(r\"C:\\Users\\juls\\PythonWorkspace\\rpa_basic\\2_desktop\\my_file.txt\")\n",
    "\n",
    "# 파일의 생성 날짜 created\n",
    "ctime = os.path.getctime(file_path)\n",
    "print(ctime)\n",
    "print(datetime.datetime.fromtimestamp(ctime))\n",
    "print(datetime.datetime.fromtimestamp(ctime).strftime(\"%Y%m%d %H:%M:%S\"))"
   ]
  },
  {
   "cell_type": "code",
   "execution_count": 28,
   "id": "d1a0f602",
   "metadata": {
    "ExecuteTime": {
     "end_time": "2021-08-14T02:24:37.327944Z",
     "start_time": "2021-08-14T02:24:37.280973Z"
    }
   },
   "outputs": [
    {
     "data": {
      "text/plain": [
       "4096"
      ]
     },
     "execution_count": 28,
     "metadata": {},
     "output_type": "execute_result"
    }
   ],
   "source": [
    "# 파일의 수정날짜 modi\n",
    "mtime = os.path.getmtime(file_path)\n",
    "\n",
    "# 파일의 접근날짜 a\n",
    "atime = os.path.getatime(file_path)\n",
    "\n",
    "# 파일 크기\n",
    "os.path.getsize(file_path) # Byte 단위"
   ]
  },
  {
   "cell_type": "code",
   "execution_count": 40,
   "id": "31e1aaef",
   "metadata": {
    "ExecuteTime": {
     "end_time": "2021-08-14T03:40:27.139239Z",
     "start_time": "2021-08-14T03:40:27.116259Z"
    }
   },
   "outputs": [
    {
     "data": {
      "text/plain": [
       "['.ipynb_checkpoints',\n",
       " 'file_menu.png',\n",
       " 'file_menu_notepad.png',\n",
       " 'file_system.ipynb',\n",
       " 'image_recognition.ipynb',\n",
       " 'keyboard.ipynb',\n",
       " 'mouse_control.ipynb',\n",
       " 'mouse_info.ipynb',\n",
       " 'screen.ipynb',\n",
       " 'screenshot.png',\n",
       " 'window.ipynb']"
      ]
     },
     "execution_count": 40,
     "metadata": {},
     "output_type": "execute_result"
    }
   ],
   "source": [
    "# 파일 목록 가져오기\n",
    "os.listdir(\".\") # 인자로 아무것도 안넣어주거나 점을 찍으면 현재 working directory의 파일 목록 가져옴"
   ]
  },
  {
   "cell_type": "code",
   "execution_count": 37,
   "id": "8804891d",
   "metadata": {
    "ExecuteTime": {
     "end_time": "2021-08-14T03:39:11.406199Z",
     "start_time": "2021-08-14T03:39:11.369222Z"
    }
   },
   "outputs": [
    {
     "name": "stdout",
     "output_type": "stream",
     "text": [
      "[]\n",
      "[]\n",
      "['1_create_file.py.ipynb', '2_sheet.py.ipynb', '3_cell.py.ipynb', '4_open_file.ipynb', '5_cell_range.ipynb', 'sample.xlsx']\n",
      "['1_create_file.py-checkpoint.ipynb', '2_sheet.py-checkpoint.ipynb', '3_cell.py-checkpoint.ipynb', '4_open_file-checkpoint.ipynb', '5_cell_range-checkpoint.ipynb']\n",
      "['file_menu.png', 'file_menu_notepad.png', 'file_system.ipynb', 'image_recognition.ipynb', 'keyboard.ipynb', 'mouse_control.ipynb', 'mouse_info.ipynb', 'screen.ipynb', 'screenshot.png', 'window.ipynb']\n",
      "['file_system-checkpoint.ipynb', 'image_recognition-checkpoint.ipynb', 'keyboard-checkpoint.ipynb', 'mouse_control-checkpoint.ipynb', 'mouse_info-checkpoint.ipynb', 'screen-checkpoint.ipynb', 'window-checkpoint.ipynb']\n"
     ]
    }
   ],
   "source": [
    "# 하위 폴더 모두 포함한 파일 목록 가져오기\n",
    "result = os.walk(r\"C:\\Users\\juls\\PythonWorkspace\\rpa_basic\")\n",
    "\n",
    "for root, dirs, files in result:\n",
    "    print(files)"
   ]
  },
  {
   "cell_type": "code",
   "execution_count": 42,
   "id": "9f63bf60",
   "metadata": {
    "ExecuteTime": {
     "end_time": "2021-08-14T03:42:59.736610Z",
     "start_time": "2021-08-14T03:42:59.701636Z"
    },
    "scrolled": true
   },
   "outputs": [
    {
     "data": {
      "text/plain": [
       "['.\\\\file_system.ipynb']"
      ]
     },
     "execution_count": 42,
     "metadata": {},
     "output_type": "execute_result"
    }
   ],
   "source": [
    "# 만약 폴더 내에서 특정 파일들을 찾으려면?\n",
    "name = \"file_system.ipynb\"\n",
    "result  = []\n",
    "\n",
    "for root, dirs, files in os.walk(\".\"): # 해당 폴더 및 하위폴더 안의 모든 파일들에 검색 수행\n",
    "    if name in files:\n",
    "        result.append(os.path.join(root, name))\n",
    "result"
   ]
  },
  {
   "cell_type": "code",
   "execution_count": 43,
   "id": "961cd3fe",
   "metadata": {
    "ExecuteTime": {
     "end_time": "2021-08-14T03:45:53.013993Z",
     "start_time": "2021-08-14T03:45:52.977026Z"
    }
   },
   "outputs": [
    {
     "data": {
      "text/plain": [
       "['.\\\\file_system.ipynb',\n",
       " '.\\\\image_recognition.ipynb',\n",
       " '.\\\\keyboard.ipynb',\n",
       " '.\\\\mouse_control.ipynb',\n",
       " '.\\\\mouse_info.ipynb',\n",
       " '.\\\\screen.ipynb',\n",
       " '.\\\\window.ipynb',\n",
       " '.\\\\.ipynb_checkpoints\\\\file_system-checkpoint.ipynb',\n",
       " '.\\\\.ipynb_checkpoints\\\\image_recognition-checkpoint.ipynb',\n",
       " '.\\\\.ipynb_checkpoints\\\\keyboard-checkpoint.ipynb',\n",
       " '.\\\\.ipynb_checkpoints\\\\mouse_control-checkpoint.ipynb',\n",
       " '.\\\\.ipynb_checkpoints\\\\mouse_info-checkpoint.ipynb',\n",
       " '.\\\\.ipynb_checkpoints\\\\screen-checkpoint.ipynb',\n",
       " '.\\\\.ipynb_checkpoints\\\\window-checkpoint.ipynb']"
      ]
     },
     "execution_count": 43,
     "metadata": {},
     "output_type": "execute_result"
    }
   ],
   "source": [
    "# 폴더 내에서 특정 패턴을 가진 파일들을 찾으려면?\n",
    "# *.xlsx, *.txt 등\n",
    "\n",
    "import fnmatch\n",
    "\n",
    "pattern = \"*.ipynb\" # .ipynb로 끝나는 모든파일\n",
    "# pattern = \"test*.ipynb\" # test 어쩌구로 시작해서 .ipynb로 끝나는 모든파일 -> 정규식 참조\n",
    "\n",
    "result = []\n",
    "for root, dirs, files in os.walk(\".\"):\n",
    "    for name in files:\n",
    "        if fnmatch.fnmatch(name, pattern): # 이름이 패턴과 일치하면 True 반환\n",
    "            result.append(os.path.join(root, name))\n",
    "result"
   ]
  },
  {
   "cell_type": "code",
   "execution_count": 49,
   "id": "27821b31",
   "metadata": {
    "ExecuteTime": {
     "end_time": "2021-08-14T03:48:42.042446Z",
     "start_time": "2021-08-14T03:48:42.019461Z"
    },
    "scrolled": true
   },
   "outputs": [
    {
     "name": "stdout",
     "output_type": "stream",
     "text": [
      "C:\\Users\\juls\\PythonWorkspace\n",
      "True\n",
      "False\n"
     ]
    }
   ],
   "source": [
    "# 주어진 경로가 파일인지 폴더인지 확인\n",
    "os.chdir(\"..\")\n",
    "print(os.getcwd())\n",
    "print(os.path.isdir(\"rpa_basic\"))\n",
    "print(os.path.isfile(\"rpa_basic\"))"
   ]
  },
  {
   "cell_type": "code",
   "execution_count": 50,
   "id": "158752f3",
   "metadata": {
    "ExecuteTime": {
     "end_time": "2021-08-14T03:49:51.596638Z",
     "start_time": "2021-08-14T03:49:51.577648Z"
    }
   },
   "outputs": [
    {
     "name": "stdout",
     "output_type": "stream",
     "text": [
      "False\n"
     ]
    }
   ],
   "source": [
    "# 만약에 지정된  경로에 해당하는 파일/폴더가 없다면?\n",
    "print(os.path.isfile(\"no_file.png\"))"
   ]
  },
  {
   "cell_type": "code",
   "execution_count": 53,
   "id": "fe5a0d18",
   "metadata": {
    "ExecuteTime": {
     "end_time": "2021-08-14T03:50:48.470071Z",
     "start_time": "2021-08-14T03:50:48.447085Z"
    }
   },
   "outputs": [
    {
     "name": "stdout",
     "output_type": "stream",
     "text": [
      "no\n"
     ]
    }
   ],
   "source": [
    "# 주어진 경로가 존재하는지?\n",
    "if os.path.exists(\"what\"):\n",
    "    print(\"yes\")\n",
    "else:\n",
    "    print(\"no\")"
   ]
  },
  {
   "cell_type": "code",
   "execution_count": 54,
   "id": "73b8767d",
   "metadata": {
    "ExecuteTime": {
     "end_time": "2021-08-14T03:52:16.651032Z",
     "start_time": "2021-08-14T03:52:16.629045Z"
    }
   },
   "outputs": [],
   "source": [
    "# 파일 만들기\n",
    "open(\"new_file.txt\",\"a\").close() # 빈 파일 생성\n",
    "\n",
    "# 파일명 변경하기\n",
    "os.rename(\"new_file.txt\", \"new_file_rename.txt\")\n",
    "\n",
    "# 파일 삭제하기\n",
    "os.remove(\"new_file_rename.txt\")"
   ]
  },
  {
   "cell_type": "code",
   "execution_count": 57,
   "id": "5260e131",
   "metadata": {
    "ExecuteTime": {
     "end_time": "2021-08-14T03:56:47.984336Z",
     "start_time": "2021-08-14T03:56:47.945361Z"
    }
   },
   "outputs": [],
   "source": [
    "# 폴더 만들기\n",
    "os.mkdir(\"new_folder\") # 현재 작업경로에 생성\n",
    "# os.mkdir(\"c:/users~\") # 절대경로로도생성 가능\n",
    "\n",
    "# 한번에 하위 폴더까지 만들기\n",
    "os.makedirs(\"new_folders/1/2/3\")\n",
    "\n",
    "# 폴더명 변경하기\n",
    "os.rename(\"new_folder\", \"new_folder_rename\")\n",
    "\n",
    "# 폴더 지우기 -> rmdir은 폴더 안이 비어있을때만 삭제 가능\n",
    "os.rmdir(\"new_folder_rename\")\n",
    "\n",
    "# 폴더 안이 비어있지 않을때도 지우기\n",
    "import shutil\n",
    "shutil.rmtree(\"new_folders\") # 모든 파일이 삭제될 수 있으므로 항상 주의."
   ]
  },
  {
   "cell_type": "code",
   "execution_count": 59,
   "id": "a6c4b51b",
   "metadata": {
    "ExecuteTime": {
     "end_time": "2021-08-14T03:58:49.382190Z",
     "start_time": "2021-08-14T03:58:49.370194Z"
    }
   },
   "outputs": [],
   "source": [
    "# 어떤 파일을 폴더 안으로 복사하기\n",
    "import shutil\n",
    "shutil.copy(\"file.txt\", \"object_folder\") # 원본 파일 경로, 대상 폴더 경로\n",
    "shutil.copy(\"file.txt\", \"object_folder/copied_file.txt\") # 이름 변경하면서 복사도 가능"
   ]
  },
  {
   "cell_type": "code",
   "execution_count": null,
   "id": "fc211923",
   "metadata": {},
   "outputs": [],
   "source": [
    "# 카피파일 -> 원본 파일경로, 대상 '파일'경로로 입력해서 복사\n",
    "shutil.copyfile(\"file.txt\", \"object_folder/copied_file.text\")"
   ]
  },
  {
   "cell_type": "code",
   "execution_count": null,
   "id": "48184328",
   "metadata": {},
   "outputs": [],
   "source": [
    "# 원본 파일경로, 대상 폴더(파일경로) -> 메타정보 복사 O\n",
    "shutil.copy2(\"file.txt\", \"object_folder/copy2.txt\")\n",
    "\n",
    "# copy, copyfile은 메타정보 복사 X\n",
    "# copy2는 메타정보 복사 O"
   ]
  },
  {
   "cell_type": "code",
   "execution_count": null,
   "id": "6f81b496",
   "metadata": {},
   "outputs": [],
   "source": [
    "# 폴더 복사 - 폴더 안 모든 것들 다  복사됨\n",
    "shutil.copytree(\"test_folder\", \"test_folder2\") # 원본 폴더 경로, 대상 폴더 경로"
   ]
  },
  {
   "cell_type": "code",
   "execution_count": null,
   "id": "1097eb75",
   "metadata": {},
   "outputs": [],
   "source": [
    "# 폴더 이동\n",
    "shutil.move(\"test_folder\", \"test_folder2\") # 원본 폴더 경로, 대상폴더 경로 -> 대상 폴더의 하위폴더로 이동됨. 만약 대상 폴더가 없다면 이름만 변경됨."
   ]
  }
 ],
 "metadata": {
  "kernelspec": {
   "display_name": "Python 3",
   "language": "python",
   "name": "python3"
  },
  "language_info": {
   "codemirror_mode": {
    "name": "ipython",
    "version": 3
   },
   "file_extension": ".py",
   "mimetype": "text/x-python",
   "name": "python",
   "nbconvert_exporter": "python",
   "pygments_lexer": "ipython3",
   "version": "3.8.8"
  },
  "toc": {
   "base_numbering": 1,
   "nav_menu": {},
   "number_sections": true,
   "sideBar": true,
   "skip_h1_title": false,
   "title_cell": "Table of Contents",
   "title_sidebar": "Contents",
   "toc_cell": false,
   "toc_position": {},
   "toc_section_display": true,
   "toc_window_display": false
  },
  "varInspector": {
   "cols": {
    "lenName": 16,
    "lenType": 16,
    "lenVar": 40
   },
   "kernels_config": {
    "python": {
     "delete_cmd_postfix": "",
     "delete_cmd_prefix": "del ",
     "library": "var_list.py",
     "varRefreshCmd": "print(var_dic_list())"
    },
    "r": {
     "delete_cmd_postfix": ") ",
     "delete_cmd_prefix": "rm(",
     "library": "var_list.r",
     "varRefreshCmd": "cat(var_dic_list()) "
    }
   },
   "types_to_exclude": [
    "module",
    "function",
    "builtin_function_or_method",
    "instance",
    "_Feature"
   ],
   "window_display": false
  }
 },
 "nbformat": 4,
 "nbformat_minor": 5
}
