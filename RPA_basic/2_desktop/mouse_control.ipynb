{
 "cells": [
  {
   "cell_type": "code",
   "execution_count": 1,
   "id": "e86ba1f7",
   "metadata": {
    "ExecuteTime": {
     "end_time": "2021-08-11T11:42:18.662758Z",
     "start_time": "2021-08-11T11:42:18.238642Z"
    }
   },
   "outputs": [],
   "source": [
    "import pyautogui"
   ]
  },
  {
   "cell_type": "code",
   "execution_count": 3,
   "id": "c59e2c4b",
   "metadata": {
    "ExecuteTime": {
     "end_time": "2021-08-11T12:14:08.649395Z",
     "start_time": "2021-08-11T12:14:08.607421Z"
    }
   },
   "outputs": [
    {
     "data": {
      "text/plain": [
       "Size(width=1600, height=900)"
      ]
     },
     "execution_count": 3,
     "metadata": {},
     "output_type": "execute_result"
    }
   ],
   "source": [
    "# screen information\n",
    "size = pyautogui.size()\n",
    "size"
   ]
  },
  {
   "cell_type": "code",
   "execution_count": 5,
   "id": "b4d9f362",
   "metadata": {
    "ExecuteTime": {
     "end_time": "2021-08-11T12:16:43.552352Z",
     "start_time": "2021-08-11T12:16:43.420987Z"
    }
   },
   "outputs": [],
   "source": [
    "# moveTo : 포인터 절대위치 변경\n",
    "pyautogui.moveTo(100, 100) # 왼쪽 위가 0,0 임. 100, 100으로 마우스 포인터 위치 이동"
   ]
  },
  {
   "cell_type": "code",
   "execution_count": 7,
   "id": "aa205533",
   "metadata": {
    "ExecuteTime": {
     "end_time": "2021-08-11T12:17:35.785914Z",
     "start_time": "2021-08-11T12:17:34.973680Z"
    }
   },
   "outputs": [],
   "source": [
    "# move mouse with duration\n",
    "pyautogui.moveTo(100, 100, duration = 0.5)"
   ]
  },
  {
   "cell_type": "code",
   "execution_count": 9,
   "id": "36543910",
   "metadata": {
    "ExecuteTime": {
     "end_time": "2021-08-11T12:19:12.673569Z",
     "start_time": "2021-08-11T12:19:12.550964Z"
    }
   },
   "outputs": [],
   "source": [
    "# move : 포인터 상대위치 변경\n",
    "pyautogui.move(100, 100)"
   ]
  },
  {
   "cell_type": "code",
   "execution_count": 13,
   "id": "0db93528",
   "metadata": {
    "ExecuteTime": {
     "end_time": "2021-08-11T12:20:49.012088Z",
     "start_time": "2021-08-11T12:20:48.980109Z"
    }
   },
   "outputs": [
    {
     "data": {
      "text/plain": [
       "pyautogui.Point"
      ]
     },
     "execution_count": 13,
     "metadata": {},
     "output_type": "execute_result"
    }
   ],
   "source": [
    "# 포인터 현재위치 반환\n",
    "pyautogui.position() # type: pyautogui.Point"
   ]
  },
  {
   "cell_type": "code",
   "execution_count": 12,
   "id": "f4307ef6",
   "metadata": {
    "ExecuteTime": {
     "end_time": "2021-08-11T12:20:36.182717Z",
     "start_time": "2021-08-11T12:20:36.157743Z"
    }
   },
   "outputs": [
    {
     "name": "stdout",
     "output_type": "stream",
     "text": [
      "517 492\n"
     ]
    }
   ],
   "source": [
    "# 포인터 현재위치 반환\n",
    "p = pyautogui.position()\n",
    "print(p.x, p.y)"
   ]
  },
  {
   "cell_type": "code",
   "execution_count": 16,
   "id": "6f8d00eb",
   "metadata": {
    "ExecuteTime": {
     "end_time": "2021-08-11T12:22:58.211163Z",
     "start_time": "2021-08-11T12:22:56.744681Z"
    }
   },
   "outputs": [],
   "source": [
    "# 마우스 지정좌표 클릭\n",
    "pyautogui.click(64, 17, duration = 1) # (64, 17) 좌표를 마우스 클릭, 1초동안 이동. 좌표 없이 실행하면 실행한 위치에서 클릭"
   ]
  },
  {
   "cell_type": "code",
   "execution_count": 19,
   "id": "e905da89",
   "metadata": {
    "ExecuteTime": {
     "end_time": "2021-08-11T12:24:51.478149Z",
     "start_time": "2021-08-11T12:24:51.227303Z"
    }
   },
   "outputs": [],
   "source": [
    "# 마우스 클릭한 상태로 있기\n",
    "pyautogui.mouseDown()\n",
    "# 마우스 뗀 상태로 있기\n",
    "pyautogui.mouseUp()"
   ]
  },
  {
   "cell_type": "code",
   "execution_count": 20,
   "id": "ebf67dec",
   "metadata": {
    "ExecuteTime": {
     "end_time": "2021-08-11T12:25:19.763855Z",
     "start_time": "2021-08-11T12:25:19.470037Z"
    }
   },
   "outputs": [],
   "source": [
    "# 여러번 클릭\n",
    "pyautogui.doubleClick() # 더블 클릭\n",
    "pyautogui.click(clicks = 30) # 여러번 클릭 가능"
   ]
  },
  {
   "cell_type": "code",
   "execution_count": 23,
   "id": "c21374b3",
   "metadata": {
    "ExecuteTime": {
     "end_time": "2021-08-11T12:26:45.539530Z",
     "start_time": "2021-08-11T12:26:45.073173Z"
    }
   },
   "outputs": [],
   "source": [
    "# 드래그\n",
    "pyautogui.moveTo(100, 100)\n",
    "pyautogui.mouseDown()\n",
    "pyautogui.moveTo(200, 200)\n",
    "pyautogui.mouseUp()"
   ]
  },
  {
   "cell_type": "code",
   "execution_count": 26,
   "id": "3b3443b0",
   "metadata": {
    "ExecuteTime": {
     "end_time": "2021-08-11T12:30:16.825793Z",
     "start_time": "2021-08-11T12:30:16.583582Z"
    }
   },
   "outputs": [],
   "source": [
    "# 드래그  2\n",
    "pyautogui.moveTo(100, 100)\n",
    "# pyautogui.drag(100, 100) # 현재 위치 기준에서 100, 100만큼 상대이동  * 너무 빨라서 실행 안될때는 duration 설정해도 좋음\n",
    "pyautogui.dragTo(200, 200) # 200, 200 절대위치로 드래그 하면서 이동"
   ]
  },
  {
   "cell_type": "code",
   "execution_count": null,
   "id": "c6025d48",
   "metadata": {},
   "outputs": [],
   "source": [
    "# 우클릭\n",
    "pyautogui.rightClick()"
   ]
  },
  {
   "cell_type": "code",
   "execution_count": 37,
   "id": "df41d60e",
   "metadata": {
    "ExecuteTime": {
     "end_time": "2021-08-11T12:31:31.185294Z",
     "start_time": "2021-08-11T12:31:31.049370Z"
    }
   },
   "outputs": [],
   "source": [
    "# 스크롤\n",
    "pyautogui.scroll(600) # 양수는 위로 음수는 아래로"
   ]
  }
 ],
 "metadata": {
  "kernelspec": {
   "display_name": "Python 3",
   "language": "python",
   "name": "python3"
  },
  "language_info": {
   "codemirror_mode": {
    "name": "ipython",
    "version": 3
   },
   "file_extension": ".py",
   "mimetype": "text/x-python",
   "name": "python",
   "nbconvert_exporter": "python",
   "pygments_lexer": "ipython3",
   "version": "3.8.8"
  },
  "toc": {
   "base_numbering": 1,
   "nav_menu": {},
   "number_sections": true,
   "sideBar": true,
   "skip_h1_title": false,
   "title_cell": "Table of Contents",
   "title_sidebar": "Contents",
   "toc_cell": false,
   "toc_position": {},
   "toc_section_display": true,
   "toc_window_display": false
  },
  "varInspector": {
   "cols": {
    "lenName": 16,
    "lenType": 16,
    "lenVar": 40
   },
   "kernels_config": {
    "python": {
     "delete_cmd_postfix": "",
     "delete_cmd_prefix": "del ",
     "library": "var_list.py",
     "varRefreshCmd": "print(var_dic_list())"
    },
    "r": {
     "delete_cmd_postfix": ") ",
     "delete_cmd_prefix": "rm(",
     "library": "var_list.r",
     "varRefreshCmd": "cat(var_dic_list()) "
    }
   },
   "types_to_exclude": [
    "module",
    "function",
    "builtin_function_or_method",
    "instance",
    "_Feature"
   ],
   "window_display": false
  }
 },
 "nbformat": 4,
 "nbformat_minor": 5
}
