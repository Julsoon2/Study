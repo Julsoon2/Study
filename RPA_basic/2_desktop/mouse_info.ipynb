{
 "cells": [
  {
   "cell_type": "code",
   "execution_count": 1,
   "id": "64f83892",
   "metadata": {
    "ExecuteTime": {
     "end_time": "2021-08-11T12:32:45.793737Z",
     "start_time": "2021-08-11T12:32:45.536471Z"
    }
   },
   "outputs": [],
   "source": [
    "import pyautogui"
   ]
  },
  {
   "cell_type": "code",
   "execution_count": 2,
   "id": "be4355d4",
   "metadata": {
    "ExecuteTime": {
     "end_time": "2021-08-11T12:38:52.836659Z",
     "start_time": "2021-08-11T12:35:44.135048Z"
    }
   },
   "outputs": [],
   "source": [
    "pyautogui.mouseInfo() # 마우스 위치 및 색상정보 따오는 모듈"
   ]
  },
  {
   "cell_type": "code",
   "execution_count": 4,
   "id": "a8a05191",
   "metadata": {
    "ExecuteTime": {
     "end_time": "2021-08-11T12:40:26.824465Z",
     "start_time": "2021-08-11T12:40:26.805475Z"
    }
   },
   "outputs": [],
   "source": [
    "pyautogui.FAILSAFE = False # 마우스가 화면 끝으로 이동해도 종료되지 않게끔 함"
   ]
  },
  {
   "cell_type": "code",
   "execution_count": null,
   "id": "6ecad0ac",
   "metadata": {},
   "outputs": [],
   "source": [
    "pyautogui.PAUSE = 1 # 모든 동작에 sleep time 적용(sec)"
   ]
  }
 ],
 "metadata": {
  "kernelspec": {
   "display_name": "Python 3",
   "language": "python",
   "name": "python3"
  },
  "language_info": {
   "codemirror_mode": {
    "name": "ipython",
    "version": 3
   },
   "file_extension": ".py",
   "mimetype": "text/x-python",
   "name": "python",
   "nbconvert_exporter": "python",
   "pygments_lexer": "ipython3",
   "version": "3.8.8"
  },
  "toc": {
   "base_numbering": 1,
   "nav_menu": {},
   "number_sections": true,
   "sideBar": true,
   "skip_h1_title": false,
   "title_cell": "Table of Contents",
   "title_sidebar": "Contents",
   "toc_cell": false,
   "toc_position": {},
   "toc_section_display": true,
   "toc_window_display": false
  },
  "varInspector": {
   "cols": {
    "lenName": 16,
    "lenType": 16,
    "lenVar": 40
   },
   "kernels_config": {
    "python": {
     "delete_cmd_postfix": "",
     "delete_cmd_prefix": "del ",
     "library": "var_list.py",
     "varRefreshCmd": "print(var_dic_list())"
    },
    "r": {
     "delete_cmd_postfix": ") ",
     "delete_cmd_prefix": "rm(",
     "library": "var_list.r",
     "varRefreshCmd": "cat(var_dic_list()) "
    }
   },
   "types_to_exclude": [
    "module",
    "function",
    "builtin_function_or_method",
    "instance",
    "_Feature"
   ],
   "window_display": false
  }
 },
 "nbformat": 4,
 "nbformat_minor": 5
}
